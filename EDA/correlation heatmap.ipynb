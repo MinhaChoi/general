{
 "cells": [
  {
   "cell_type": "code",
   "execution_count": 1,
   "id": "e24ad1ee",
   "metadata": {},
   "outputs": [],
   "source": [
    "import pandas as pd\n",
    "import matplotlib.pyplot as plt\n",
    "import numpy as np\n",
    "import seaborn as sns\n",
    "import matplotlib.font_manager as fm\n",
    "import warnings \n",
    "warnings.filterwarnings(action='ignore')"
   ]
  },
  {
   "cell_type": "code",
   "execution_count": 2,
   "id": "674aebe7",
   "metadata": {},
   "outputs": [],
   "source": [
    "tourist = pd.read_csv(\"tourist_2019_통합.csv\", index_col = 0)\n",
    "upload = pd.read_csv(\"upload_2019_통합.csv\", index_col=0)"
   ]
  },
  {
   "cell_type": "code",
   "execution_count": 3,
   "id": "53f0d513",
   "metadata": {},
   "outputs": [
    {
     "data": {
      "text/html": [
       "<div>\n",
       "<style scoped>\n",
       "    .dataframe tbody tr th:only-of-type {\n",
       "        vertical-align: middle;\n",
       "    }\n",
       "\n",
       "    .dataframe tbody tr th {\n",
       "        vertical-align: top;\n",
       "    }\n",
       "\n",
       "    .dataframe thead th {\n",
       "        text-align: right;\n",
       "    }\n",
       "</style>\n",
       "<table border=\"1\" class=\"dataframe\">\n",
       "  <thead>\n",
       "    <tr style=\"text-align: right;\">\n",
       "      <th></th>\n",
       "      <th>arrival</th>\n",
       "      <th>arrival_2019</th>\n",
       "      <th>arrival_2020</th>\n",
       "      <th>arriaval_2021</th>\n",
       "    </tr>\n",
       "  </thead>\n",
       "  <tbody>\n",
       "    <tr>\n",
       "      <th>2019-04-01/2019-04-07</th>\n",
       "      <td>W01</td>\n",
       "      <td>1012309</td>\n",
       "      <td>386064</td>\n",
       "      <td>1144950</td>\n",
       "    </tr>\n",
       "    <tr>\n",
       "      <th>2019-04-08/2019-04-14</th>\n",
       "      <td>W02</td>\n",
       "      <td>1019195</td>\n",
       "      <td>366750</td>\n",
       "      <td>1323918</td>\n",
       "    </tr>\n",
       "    <tr>\n",
       "      <th>2019-04-15/2019-04-21</th>\n",
       "      <td>W03</td>\n",
       "      <td>1003633</td>\n",
       "      <td>419150</td>\n",
       "      <td>1360393</td>\n",
       "    </tr>\n",
       "    <tr>\n",
       "      <th>2019-04-22/2019-04-28</th>\n",
       "      <td>W04</td>\n",
       "      <td>1055993</td>\n",
       "      <td>507611</td>\n",
       "      <td>1407969</td>\n",
       "    </tr>\n",
       "    <tr>\n",
       "      <th>2019-04-29/2019-05-05</th>\n",
       "      <td>W05</td>\n",
       "      <td>1105751</td>\n",
       "      <td>872686</td>\n",
       "      <td>1367863</td>\n",
       "    </tr>\n",
       "  </tbody>\n",
       "</table>\n",
       "</div>"
      ],
      "text/plain": [
       "                      arrival  arrival_2019  arrival_2020  arriaval_2021\n",
       "2019-04-01/2019-04-07     W01       1012309        386064        1144950\n",
       "2019-04-08/2019-04-14     W02       1019195        366750        1323918\n",
       "2019-04-15/2019-04-21     W03       1003633        419150        1360393\n",
       "2019-04-22/2019-04-28     W04       1055993        507611        1407969\n",
       "2019-04-29/2019-05-05     W05       1105751        872686        1367863"
      ]
     },
     "execution_count": 3,
     "metadata": {},
     "output_type": "execute_result"
    }
   ],
   "source": [
    "tourist.head()"
   ]
  },
  {
   "cell_type": "code",
   "execution_count": 4,
   "id": "17f55eaa",
   "metadata": {
    "scrolled": true
   },
   "outputs": [
    {
     "data": {
      "text/html": [
       "<div>\n",
       "<style scoped>\n",
       "    .dataframe tbody tr th:only-of-type {\n",
       "        vertical-align: middle;\n",
       "    }\n",
       "\n",
       "    .dataframe tbody tr th {\n",
       "        vertical-align: top;\n",
       "    }\n",
       "\n",
       "    .dataframe thead th {\n",
       "        text-align: right;\n",
       "    }\n",
       "</style>\n",
       "<table border=\"1\" class=\"dataframe\">\n",
       "  <thead>\n",
       "    <tr style=\"text-align: right;\">\n",
       "      <th></th>\n",
       "      <th>upload</th>\n",
       "      <th>upload_2019</th>\n",
       "      <th>upload_2020</th>\n",
       "      <th>upload_2021</th>\n",
       "    </tr>\n",
       "  </thead>\n",
       "  <tbody>\n",
       "    <tr>\n",
       "      <th>2019-04-01/2019-04-07</th>\n",
       "      <td>W01</td>\n",
       "      <td>1483</td>\n",
       "      <td>1019</td>\n",
       "      <td>2640</td>\n",
       "    </tr>\n",
       "    <tr>\n",
       "      <th>2019-04-08/2019-04-14</th>\n",
       "      <td>W02</td>\n",
       "      <td>1561</td>\n",
       "      <td>965</td>\n",
       "      <td>3285</td>\n",
       "    </tr>\n",
       "    <tr>\n",
       "      <th>2019-04-15/2019-04-21</th>\n",
       "      <td>W03</td>\n",
       "      <td>1556</td>\n",
       "      <td>988</td>\n",
       "      <td>3739</td>\n",
       "    </tr>\n",
       "    <tr>\n",
       "      <th>2019-04-22/2019-04-28</th>\n",
       "      <td>W04</td>\n",
       "      <td>1351</td>\n",
       "      <td>1086</td>\n",
       "      <td>3792</td>\n",
       "    </tr>\n",
       "    <tr>\n",
       "      <th>2019-04-29/2019-05-05</th>\n",
       "      <td>W05</td>\n",
       "      <td>1499</td>\n",
       "      <td>1244</td>\n",
       "      <td>3426</td>\n",
       "    </tr>\n",
       "  </tbody>\n",
       "</table>\n",
       "</div>"
      ],
      "text/plain": [
       "                      upload  upload_2019  upload_2020  upload_2021\n",
       "2019-04-01/2019-04-07    W01         1483         1019         2640\n",
       "2019-04-08/2019-04-14    W02         1561          965         3285\n",
       "2019-04-15/2019-04-21    W03         1556          988         3739\n",
       "2019-04-22/2019-04-28    W04         1351         1086         3792\n",
       "2019-04-29/2019-05-05    W05         1499         1244         3426"
      ]
     },
     "execution_count": 4,
     "metadata": {},
     "output_type": "execute_result"
    }
   ],
   "source": [
    "upload.head()"
   ]
  },
  {
   "cell_type": "code",
   "execution_count": 5,
   "id": "8a06da9f",
   "metadata": {
    "scrolled": true
   },
   "outputs": [
    {
     "data": {
      "text/html": [
       "<div>\n",
       "<style scoped>\n",
       "    .dataframe tbody tr th:only-of-type {\n",
       "        vertical-align: middle;\n",
       "    }\n",
       "\n",
       "    .dataframe tbody tr th {\n",
       "        vertical-align: top;\n",
       "    }\n",
       "\n",
       "    .dataframe thead th {\n",
       "        text-align: right;\n",
       "    }\n",
       "</style>\n",
       "<table border=\"1\" class=\"dataframe\">\n",
       "  <thead>\n",
       "    <tr style=\"text-align: right;\">\n",
       "      <th></th>\n",
       "      <th>arrival</th>\n",
       "      <th>arrival_2019</th>\n",
       "      <th>arrival_2020</th>\n",
       "      <th>arriaval_2021</th>\n",
       "      <th>upload</th>\n",
       "      <th>upload_2019</th>\n",
       "      <th>upload_2020</th>\n",
       "      <th>upload_2021</th>\n",
       "    </tr>\n",
       "  </thead>\n",
       "  <tbody>\n",
       "    <tr>\n",
       "      <th>2019-04-01/2019-04-07</th>\n",
       "      <td>W01</td>\n",
       "      <td>1012309</td>\n",
       "      <td>386064</td>\n",
       "      <td>1144950</td>\n",
       "      <td>W01</td>\n",
       "      <td>1483</td>\n",
       "      <td>1019</td>\n",
       "      <td>2640</td>\n",
       "    </tr>\n",
       "    <tr>\n",
       "      <th>2019-04-08/2019-04-14</th>\n",
       "      <td>W02</td>\n",
       "      <td>1019195</td>\n",
       "      <td>366750</td>\n",
       "      <td>1323918</td>\n",
       "      <td>W02</td>\n",
       "      <td>1561</td>\n",
       "      <td>965</td>\n",
       "      <td>3285</td>\n",
       "    </tr>\n",
       "    <tr>\n",
       "      <th>2019-04-15/2019-04-21</th>\n",
       "      <td>W03</td>\n",
       "      <td>1003633</td>\n",
       "      <td>419150</td>\n",
       "      <td>1360393</td>\n",
       "      <td>W03</td>\n",
       "      <td>1556</td>\n",
       "      <td>988</td>\n",
       "      <td>3739</td>\n",
       "    </tr>\n",
       "    <tr>\n",
       "      <th>2019-04-22/2019-04-28</th>\n",
       "      <td>W04</td>\n",
       "      <td>1055993</td>\n",
       "      <td>507611</td>\n",
       "      <td>1407969</td>\n",
       "      <td>W04</td>\n",
       "      <td>1351</td>\n",
       "      <td>1086</td>\n",
       "      <td>3792</td>\n",
       "    </tr>\n",
       "    <tr>\n",
       "      <th>2019-04-29/2019-05-05</th>\n",
       "      <td>W05</td>\n",
       "      <td>1105751</td>\n",
       "      <td>872686</td>\n",
       "      <td>1367863</td>\n",
       "      <td>W05</td>\n",
       "      <td>1499</td>\n",
       "      <td>1244</td>\n",
       "      <td>3426</td>\n",
       "    </tr>\n",
       "  </tbody>\n",
       "</table>\n",
       "</div>"
      ],
      "text/plain": [
       "                      arrival  arrival_2019  arrival_2020  arriaval_2021  \\\n",
       "2019-04-01/2019-04-07     W01       1012309        386064        1144950   \n",
       "2019-04-08/2019-04-14     W02       1019195        366750        1323918   \n",
       "2019-04-15/2019-04-21     W03       1003633        419150        1360393   \n",
       "2019-04-22/2019-04-28     W04       1055993        507611        1407969   \n",
       "2019-04-29/2019-05-05     W05       1105751        872686        1367863   \n",
       "\n",
       "                      upload  upload_2019  upload_2020  upload_2021  \n",
       "2019-04-01/2019-04-07    W01         1483         1019         2640  \n",
       "2019-04-08/2019-04-14    W02         1561          965         3285  \n",
       "2019-04-15/2019-04-21    W03         1556          988         3739  \n",
       "2019-04-22/2019-04-28    W04         1351         1086         3792  \n",
       "2019-04-29/2019-05-05    W05         1499         1244         3426  "
      ]
     },
     "execution_count": 5,
     "metadata": {},
     "output_type": "execute_result"
    }
   ],
   "source": [
    "df = pd.concat([tourist, upload], axis=1)\n",
    "df.head()"
   ]
  },
  {
   "cell_type": "code",
   "execution_count": 6,
   "id": "39af73fb",
   "metadata": {},
   "outputs": [],
   "source": [
    "df.drop(['arrival','upload'], inplace=True, axis =1)"
   ]
  },
  {
   "cell_type": "markdown",
   "id": "8a4ed3ef",
   "metadata": {},
   "source": [
    "# method1"
   ]
  },
  {
   "cell_type": "code",
   "execution_count": 7,
   "id": "76533cf8",
   "metadata": {},
   "outputs": [
    {
     "data": {
      "text/plain": [
       "<AxesSubplot:title={'center':'Person Correlation of Features'}>"
      ]
     },
     "execution_count": 7,
     "metadata": {},
     "output_type": "execute_result"
    },
    {
     "data": {
      "image/png": "[encoded data removed]",
      "text/plain": [
       "<Figure size 432x288 with 2 Axes>"
      ]
     },
     "metadata": {
      "needs_background": "light"
     },
     "output_type": "display_data"
    }
   ],
   "source": [
    "colormap = plt.cm.coolwarm\n",
    "# plt.figure(figsize=(8, 8)) \n",
    "plt.title(\"Person Correlation of Features\", y = 1.05, size = 15) \n",
    "sns.heatmap(df.astype(float).corr(), \n",
    "            linewidths = 0.01, \n",
    "            #vmax = 1.0, \n",
    "            square = True, \n",
    "            cmap = colormap, \n",
    "            linecolor = \"black\", \n",
    "            annot = True)"
   ]
  },
  {
   "cell_type": "markdown",
   "id": "3facf257",
   "metadata": {},
   "source": [
    "# method2"
   ]
  },
  {
   "cell_type": "code",
   "execution_count": 8,
   "id": "2e938df2",
   "metadata": {},
   "outputs": [
    {
     "data": {
      "text/html": [
       "<div>\n",
       "<style scoped>\n",
       "    .dataframe tbody tr th:only-of-type {\n",
       "        vertical-align: middle;\n",
       "    }\n",
       "\n",
       "    .dataframe tbody tr th {\n",
       "        vertical-align: top;\n",
       "    }\n",
       "\n",
       "    .dataframe thead th {\n",
       "        text-align: right;\n",
       "    }\n",
       "</style>\n",
       "<table border=\"1\" class=\"dataframe\">\n",
       "  <thead>\n",
       "    <tr style=\"text-align: right;\">\n",
       "      <th></th>\n",
       "      <th>arrival_2019</th>\n",
       "      <th>arrival_2020</th>\n",
       "      <th>arriaval_2021</th>\n",
       "      <th>upload_2019</th>\n",
       "      <th>upload_2020</th>\n",
       "      <th>upload_2021</th>\n",
       "    </tr>\n",
       "  </thead>\n",
       "  <tbody>\n",
       "    <tr>\n",
       "      <th>arrival_2019</th>\n",
       "      <td>1.000000</td>\n",
       "      <td>0.446912</td>\n",
       "      <td>0.519115</td>\n",
       "      <td>0.225783</td>\n",
       "      <td>0.194937</td>\n",
       "      <td>0.036775</td>\n",
       "    </tr>\n",
       "    <tr>\n",
       "      <th>arrival_2020</th>\n",
       "      <td>0.446912</td>\n",
       "      <td>1.000000</td>\n",
       "      <td>0.287438</td>\n",
       "      <td>0.504657</td>\n",
       "      <td>0.839926</td>\n",
       "      <td>-0.255817</td>\n",
       "    </tr>\n",
       "    <tr>\n",
       "      <th>arriaval_2021</th>\n",
       "      <td>0.519115</td>\n",
       "      <td>0.287438</td>\n",
       "      <td>1.000000</td>\n",
       "      <td>0.205600</td>\n",
       "      <td>0.008117</td>\n",
       "      <td>0.445870</td>\n",
       "    </tr>\n",
       "    <tr>\n",
       "      <th>upload_2019</th>\n",
       "      <td>0.225783</td>\n",
       "      <td>0.504657</td>\n",
       "      <td>0.205600</td>\n",
       "      <td>1.000000</td>\n",
       "      <td>0.528199</td>\n",
       "      <td>0.114458</td>\n",
       "    </tr>\n",
       "    <tr>\n",
       "      <th>upload_2020</th>\n",
       "      <td>0.194937</td>\n",
       "      <td>0.839926</td>\n",
       "      <td>0.008117</td>\n",
       "      <td>0.528199</td>\n",
       "      <td>1.000000</td>\n",
       "      <td>-0.408642</td>\n",
       "    </tr>\n",
       "    <tr>\n",
       "      <th>upload_2021</th>\n",
       "      <td>0.036775</td>\n",
       "      <td>-0.255817</td>\n",
       "      <td>0.445870</td>\n",
       "      <td>0.114458</td>\n",
       "      <td>-0.408642</td>\n",
       "      <td>1.000000</td>\n",
       "    </tr>\n",
       "  </tbody>\n",
       "</table>\n",
       "</div>"
      ],
      "text/plain": [
       "               arrival_2019  arrival_2020  arriaval_2021  upload_2019  \\\n",
       "arrival_2019       1.000000      0.446912       0.519115     0.225783   \n",
       "arrival_2020       0.446912      1.000000       0.287438     0.504657   \n",
       "arriaval_2021      0.519115      0.287438       1.000000     0.205600   \n",
       "upload_2019        0.225783      0.504657       0.205600     1.000000   \n",
       "upload_2020        0.194937      0.839926       0.008117     0.528199   \n",
       "upload_2021        0.036775     -0.255817       0.445870     0.114458   \n",
       "\n",
       "               upload_2020  upload_2021  \n",
       "arrival_2019      0.194937     0.036775  \n",
       "arrival_2020      0.839926    -0.255817  \n",
       "arriaval_2021     0.008117     0.445870  \n",
       "upload_2019       0.528199     0.114458  \n",
       "upload_2020       1.000000    -0.408642  \n",
       "upload_2021      -0.408642     1.000000  "
      ]
     },
     "execution_count": 8,
     "metadata": {},
     "output_type": "execute_result"
    }
   ],
   "source": [
    "#변수간의 상관관계 구하기\n",
    "df1 = df.corr()\n",
    "df1"
   ]
  },
  {
   "cell_type": "code",
   "execution_count": 9,
   "id": "c183db94",
   "metadata": {},
   "outputs": [
    {
     "data": {
      "image/png": "[encoded data removed]",
      "text/plain": [
       "<Figure size 360x360 with 2 Axes>"
      ]
     },
     "metadata": {
      "needs_background": "light"
     },
     "output_type": "display_data"
    }
   ],
   "source": [
    "# 그림 사이즈 지정\n",
    "fig, ax = plt.subplots( figsize=(5,5) )\n",
    "\n",
    "# 삼각형 마스크를 만든다(위 쪽 삼각형에 True, 아래 삼각형에 False)\n",
    "mask = np.zeros_like(df1, dtype=np.bool)\n",
    "mask[np.triu_indices_from(mask)] = True\n",
    "\n",
    "# 히트맵을 그린다\n",
    "sns.heatmap(df1, \n",
    "            cmap = 'PuBu', \n",
    "            annot = True,   # 실제 값을 표시한다\n",
    "            mask=mask,      # 표시하지 않을 마스크 부분을 지정한다\n",
    "            square = True,\n",
    "            linewidths=.5,  # 경계면 실선으로 구분하기\n",
    "            cbar_kws={\"shrink\": .5},# 컬러바 크기 절반으로 줄이기\n",
    "            vmin = -1,vmax = 1   # 컬러바 범위 -1 ~ 1\n",
    "           )  \n",
    "plt.show()"
   ]
  }
 ],
 "metadata": {
  "kernelspec": {
   "display_name": "Python 3",
   "language": "python",
   "name": "python3"
  },
  "language_info": {
   "codemirror_mode": {
    "name": "ipython",
    "version": 3
   },
   "file_extension": ".py",
   "mimetype": "text/x-python",
   "name": "python",
   "nbconvert_exporter": "python",
   "pygments_lexer": "ipython3",
   "version": "3.8.8"
  },
  "toc": {
   "base_numbering": 1,
   "nav_menu": {},
   "number_sections": true,
   "sideBar": true,
   "skip_h1_title": false,
   "title_cell": "Table of Contents",
   "title_sidebar": "Contents",
   "toc_cell": false,
   "toc_position": {},
   "toc_section_display": true,
   "toc_window_display": false
  }
 },
 "nbformat": 4,
 "nbformat_minor": 5
}
