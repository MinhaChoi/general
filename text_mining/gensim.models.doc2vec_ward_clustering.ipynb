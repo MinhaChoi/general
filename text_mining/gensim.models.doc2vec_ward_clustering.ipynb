{
 "cells": [
  {
   "cell_type": "markdown",
   "metadata": {},
   "source": [
    "### 필수 라이브러리 불러오기"
   ]
  },
  {
   "cell_type": "code",
   "execution_count": 1,
   "metadata": {},
   "outputs": [],
   "source": [
    "import pandas as pd # 데이터 프레임을 사용하기 위한 라이브러리\n",
    "from datetime import datetime # 년, 월, 일로 날짜를 표현할 때 사용하는 모듈\n",
    "import numpy as np # 벡터 및 행렬연산을 하기 위한 라이브러리\n",
    "import scipy as sp # 수치적분 루틴과 미분방정식 해석기, 방정식의 근을 구하는 알고리즘, 표준 연속/이산 확률분포와 다양한 통계관련 도구 등을 제공하는 라이브러리\n",
    "import sklearn # python을 대표하는 머신러닝 라이브러리\n",
    "import sys # 파이썬 인터프리터가 제공하는 변수와 함수를 직접 제어할 수 있게 해주는 모듈\n",
    "\n",
    "# 자연어 처리 관련 라이브러리 및 모듈\n",
    "from nltk.corpus import stopwords # 불용어 관련 모듈\n",
    "import nltk # 언어 처리 기능을 제공하는 파이썬 라이브러리\n",
    "from nltk.stem import WordNetLemmatizer, SnowballStemmer # 표제어 및 어간추출 관련 모듈\n",
    "from nltk.stem.porter import * # 가장 유명한 Stemmer 인 1980년도에 Porter 씨가 제안한 Porter Stemmer 불러오는 모듈\n",
    "from nltk import word_tokenize # 토큰화 관련 모듈\n",
    "\n",
    "from sklearn.feature_extraction.text import CountVectorizer, TfidfTransformer, TfidfVectorizer # CountVectorizer는 빈도로 벡터화 하는 모듈, TfidfTransformer는 카운터 벡터화 후 TF-IDF 벡터로 바꿔주는 모듈, TF-IDF vectorizer 는 문서를 tf-idf의 feature matrix로 변환하는 클래스\n",
    "from sklearn.decomposition import LatentDirichletAllocation # LDA 토픽모델링 관련 모듈\n",
    "from sklearn.decomposition import NMF  # 음수 미포함 행렬 분해 관련 모듈\n",
    "from sklearn.preprocessing import normalize # 정규화 모듈\n",
    "from scipy import linalg # 선형대수학 관련 모듈\n",
    "\n",
    "import gensim # 자연어 처리 대표적인 라이브러리 \n",
    "from gensim.utils import simple_preprocess # 전처리 관련 모듈\n",
    "from gensim.parsing.preprocessing import STOPWORDS # 불용어 관련 모듈\n",
    "from tqdm import tqdm"
   ]
  },
  {
   "cell_type": "code",
   "execution_count": 2,
   "metadata": {},
   "outputs": [],
   "source": [
    "import pickle # 일반 텍스트를 파일로 저장할 때 쓰는 모듈\n",
    "import string"
   ]
  },
  {
   "cell_type": "markdown",
   "metadata": {},
   "source": [
    "### 데이터 불러오기\n",
    "\n",
    "- 네이버 뉴스 데이터"
   ]
  },
  {
   "cell_type": "code",
   "execution_count": 3,
   "metadata": {},
   "outputs": [],
   "source": [
    "df = pd.read_csv('네이버지도리뷰_아르떼뮤지엄결과.csv', encoding='cp949', index_col=0)\n",
    "#df_p = pd.read_csv('naver_news_patientspread.csv')"
   ]
  },
  {
   "cell_type": "code",
   "execution_count": 4,
   "metadata": {},
   "outputs": [
    {
     "data": {
      "text/html": [
       "<div>\n",
       "<style scoped>\n",
       "    .dataframe tbody tr th:only-of-type {\n",
       "        vertical-align: middle;\n",
       "    }\n",
       "\n",
       "    .dataframe tbody tr th {\n",
       "        vertical-align: top;\n",
       "    }\n",
       "\n",
       "    .dataframe thead th {\n",
       "        text-align: right;\n",
       "    }\n",
       "</style>\n",
       "<table border=\"1\" class=\"dataframe\">\n",
       "  <thead>\n",
       "    <tr style=\"text-align: right;\">\n",
       "      <th></th>\n",
       "      <th>place_name</th>\n",
       "      <th>user_name</th>\n",
       "      <th>review</th>\n",
       "      <th>url</th>\n",
       "    </tr>\n",
       "  </thead>\n",
       "  <tbody>\n",
       "    <tr>\n",
       "      <th>0</th>\n",
       "      <td>아르떼뮤지엄 강릉</td>\n",
       "      <td>대구송풍기</td>\n",
       "      <td>강릉 아르떼뮤지엄  이로써 여수 제주 강릉 까지 대한민국  아르떼뮤지엄 방문끝 각지...</td>\n",
       "      <td>https://pcmap.place.naver.com/place/1090555407...</td>\n",
       "    </tr>\n",
       "    <tr>\n",
       "      <th>1</th>\n",
       "      <td>아르떼뮤지엄 강릉</td>\n",
       "      <td>Olive71</td>\n",
       "      <td>이런곳 좋아요^^  움직이는 명화를보는건 더 리얼한 감동으로 다가와요.유리에 비친 ...</td>\n",
       "      <td>https://pcmap.place.naver.com/place/1090555407...</td>\n",
       "    </tr>\n",
       "    <tr>\n",
       "      <th>2</th>\n",
       "      <td>아르떼뮤지엄 강릉</td>\n",
       "      <td>ujo****</td>\n",
       "      <td>여러가지모양의 불빛 으로 화려한모습을 보고 물줄기 파도 꽃 그림 파노라마 등 아주볼...</td>\n",
       "      <td>https://pcmap.place.naver.com/place/1090555407...</td>\n",
       "    </tr>\n",
       "    <tr>\n",
       "      <th>3</th>\n",
       "      <td>아르떼뮤지엄 강릉</td>\n",
       "      <td>수실라</td>\n",
       "      <td>계속 보고 있으면 어지러워요ㅜㅜ 사진을 멋지게 찍을 수 있어서 사진맛집이에요 크고 ...</td>\n",
       "      <td>https://pcmap.place.naver.com/place/1090555407...</td>\n",
       "    </tr>\n",
       "    <tr>\n",
       "      <th>4</th>\n",
       "      <td>아르떼뮤지엄 강릉</td>\n",
       "      <td>ssohenn</td>\n",
       "      <td>오후 5시쯤 방문했는데, 바글바글하지는 않고 적당했어요.  17000원은 좀 비싼감...</td>\n",
       "      <td>https://pcmap.place.naver.com/place/1090555407...</td>\n",
       "    </tr>\n",
       "  </tbody>\n",
       "</table>\n",
       "</div>"
      ],
      "text/plain": [
       "  place_name user_name                                             review  \\\n",
       "0  아르떼뮤지엄 강릉     대구송풍기  강릉 아르떼뮤지엄  이로써 여수 제주 강릉 까지 대한민국  아르떼뮤지엄 방문끝 각지...   \n",
       "1  아르떼뮤지엄 강릉   Olive71  이런곳 좋아요^^  움직이는 명화를보는건 더 리얼한 감동으로 다가와요.유리에 비친 ...   \n",
       "2  아르떼뮤지엄 강릉   ujo****  여러가지모양의 불빛 으로 화려한모습을 보고 물줄기 파도 꽃 그림 파노라마 등 아주볼...   \n",
       "3  아르떼뮤지엄 강릉       수실라  계속 보고 있으면 어지러워요ㅜㅜ 사진을 멋지게 찍을 수 있어서 사진맛집이에요 크고 ...   \n",
       "4  아르떼뮤지엄 강릉   ssohenn  오후 5시쯤 방문했는데, 바글바글하지는 않고 적당했어요.  17000원은 좀 비싼감...   \n",
       "\n",
       "                                                 url  \n",
       "0  https://pcmap.place.naver.com/place/1090555407...  \n",
       "1  https://pcmap.place.naver.com/place/1090555407...  \n",
       "2  https://pcmap.place.naver.com/place/1090555407...  \n",
       "3  https://pcmap.place.naver.com/place/1090555407...  \n",
       "4  https://pcmap.place.naver.com/place/1090555407...  "
      ]
     },
     "execution_count": 4,
     "metadata": {},
     "output_type": "execute_result"
    }
   ],
   "source": [
    "df.head()"
   ]
  },
  {
   "cell_type": "code",
   "execution_count": 5,
   "metadata": {},
   "outputs": [
    {
     "data": {
      "text/plain": [
       "array(['아르떼뮤지엄 강릉', '아르떼뮤지엄 여수', '아르떼뮤지엄 제주'], dtype=object)"
      ]
     },
     "execution_count": 5,
     "metadata": {},
     "output_type": "execute_result"
    }
   ],
   "source": [
    "# 고유값 확인\n",
    "df.place_name.unique()"
   ]
  },
  {
   "cell_type": "code",
   "execution_count": 6,
   "metadata": {},
   "outputs": [
    {
     "data": {
      "text/plain": [
       "place_name      0\n",
       "user_name       0\n",
       "review        165\n",
       "url             0\n",
       "dtype: int64"
      ]
     },
     "execution_count": 6,
     "metadata": {},
     "output_type": "execute_result"
    }
   ],
   "source": [
    "# 결측치 확인\n",
    "df.isnull().sum()"
   ]
  },
  {
   "cell_type": "code",
   "execution_count": 7,
   "metadata": {},
   "outputs": [],
   "source": [
    "df.rename(columns={'review':'text'}, inplace=True)"
   ]
  },
  {
   "cell_type": "code",
   "execution_count": 8,
   "metadata": {
    "scrolled": false
   },
   "outputs": [],
   "source": [
    "# 결측치 제거\n",
    "df = df[df.text.notnull()]"
   ]
  },
  {
   "cell_type": "markdown",
   "metadata": {},
   "source": [
    "### 데이터 전처리"
   ]
  },
  {
   "cell_type": "code",
   "execution_count": 9,
   "metadata": {},
   "outputs": [],
   "source": [
    "def clean_text(text):\n",
    "    text = re.sub('http[s]?://\\S+', '', text) # http url 제거\n",
    "    text = re.sub('\\S*@\\S*\\s?', '', text) # 기자 emails 제거\n",
    "    text = re.sub(r'\\[.*?\\]', '', text) # 대괄호안에 텍스트 제거 : 뉴스이름 + 기자이름\n",
    "    text = re.sub(r'\\w*\\d\\w*', '', text) # 숫자 포함하는 텍스트 제거\n",
    "    text = re.sub('[?.,;:|\\)*~`’!^\\-_+<>@\\#$%&-=#}※]', '', text)#특수문자 이모티콘 제거\n",
    "    text = re.sub(\"\\n\", '', text) #개행문자 제거\n",
    "    text = re.sub(\"\\xa0\", '', text) #개행문자 제거\n",
    "    text = re.sub(r'Copyright .* rights reserved', '', text) # \"Copyright all rights reserved\" 제거\n",
    "    return text"
   ]
  },
  {
   "cell_type": "code",
   "execution_count": 10,
   "metadata": {},
   "outputs": [],
   "source": [
    "df['text_clean'] = pd.DataFrame(df.text.apply(lambda x: clean_text(x)))"
   ]
  },
  {
   "cell_type": "code",
   "execution_count": 11,
   "metadata": {},
   "outputs": [
    {
     "data": {
      "text/html": [
       "<div>\n",
       "<style scoped>\n",
       "    .dataframe tbody tr th:only-of-type {\n",
       "        vertical-align: middle;\n",
       "    }\n",
       "\n",
       "    .dataframe tbody tr th {\n",
       "        vertical-align: top;\n",
       "    }\n",
       "\n",
       "    .dataframe thead th {\n",
       "        text-align: right;\n",
       "    }\n",
       "</style>\n",
       "<table border=\"1\" class=\"dataframe\">\n",
       "  <thead>\n",
       "    <tr style=\"text-align: right;\">\n",
       "      <th></th>\n",
       "      <th>place_name</th>\n",
       "      <th>user_name</th>\n",
       "      <th>text</th>\n",
       "      <th>url</th>\n",
       "      <th>text_clean</th>\n",
       "    </tr>\n",
       "  </thead>\n",
       "  <tbody>\n",
       "    <tr>\n",
       "      <th>0</th>\n",
       "      <td>아르떼뮤지엄 강릉</td>\n",
       "      <td>대구송풍기</td>\n",
       "      <td>강릉 아르떼뮤지엄  이로써 여수 제주 강릉 까지 대한민국  아르떼뮤지엄 방문끝 각지...</td>\n",
       "      <td>https://pcmap.place.naver.com/place/1090555407...</td>\n",
       "      <td>강릉 아르떼뮤지엄  이로써 여수 제주 강릉 까지 대한민국  아르떼뮤지엄 방문끝 각지...</td>\n",
       "    </tr>\n",
       "    <tr>\n",
       "      <th>1</th>\n",
       "      <td>아르떼뮤지엄 강릉</td>\n",
       "      <td>Olive71</td>\n",
       "      <td>이런곳 좋아요^^  움직이는 명화를보는건 더 리얼한 감동으로 다가와요.유리에 비친 ...</td>\n",
       "      <td>https://pcmap.place.naver.com/place/1090555407...</td>\n",
       "      <td>이런곳 좋아요  움직이는 명화를보는건 더 리얼한 감동으로 다가와요유리에 비친 조명그...</td>\n",
       "    </tr>\n",
       "    <tr>\n",
       "      <th>2</th>\n",
       "      <td>아르떼뮤지엄 강릉</td>\n",
       "      <td>ujo****</td>\n",
       "      <td>여러가지모양의 불빛 으로 화려한모습을 보고 물줄기 파도 꽃 그림 파노라마 등 아주볼...</td>\n",
       "      <td>https://pcmap.place.naver.com/place/1090555407...</td>\n",
       "      <td>여러가지모양의 불빛 으로 화려한모습을 보고 물줄기 파도 꽃 그림 파노라마 등 아주볼...</td>\n",
       "    </tr>\n",
       "    <tr>\n",
       "      <th>3</th>\n",
       "      <td>아르떼뮤지엄 강릉</td>\n",
       "      <td>수실라</td>\n",
       "      <td>계속 보고 있으면 어지러워요ㅜㅜ 사진을 멋지게 찍을 수 있어서 사진맛집이에요 크고 ...</td>\n",
       "      <td>https://pcmap.place.naver.com/place/1090555407...</td>\n",
       "      <td>계속 보고 있으면 어지러워요ㅜㅜ 사진을 멋지게 찍을 수 있어서 사진맛집이에요 크고 ...</td>\n",
       "    </tr>\n",
       "    <tr>\n",
       "      <th>4</th>\n",
       "      <td>아르떼뮤지엄 강릉</td>\n",
       "      <td>ssohenn</td>\n",
       "      <td>오후 5시쯤 방문했는데, 바글바글하지는 않고 적당했어요.  17000원은 좀 비싼감...</td>\n",
       "      <td>https://pcmap.place.naver.com/place/1090555407...</td>\n",
       "      <td>오후  방문했는데 바글바글하지는 않고 적당했어요   좀 비싼감이 있지만 관광지에 핫...</td>\n",
       "    </tr>\n",
       "  </tbody>\n",
       "</table>\n",
       "</div>"
      ],
      "text/plain": [
       "  place_name user_name                                               text  \\\n",
       "0  아르떼뮤지엄 강릉     대구송풍기  강릉 아르떼뮤지엄  이로써 여수 제주 강릉 까지 대한민국  아르떼뮤지엄 방문끝 각지...   \n",
       "1  아르떼뮤지엄 강릉   Olive71  이런곳 좋아요^^  움직이는 명화를보는건 더 리얼한 감동으로 다가와요.유리에 비친 ...   \n",
       "2  아르떼뮤지엄 강릉   ujo****  여러가지모양의 불빛 으로 화려한모습을 보고 물줄기 파도 꽃 그림 파노라마 등 아주볼...   \n",
       "3  아르떼뮤지엄 강릉       수실라  계속 보고 있으면 어지러워요ㅜㅜ 사진을 멋지게 찍을 수 있어서 사진맛집이에요 크고 ...   \n",
       "4  아르떼뮤지엄 강릉   ssohenn  오후 5시쯤 방문했는데, 바글바글하지는 않고 적당했어요.  17000원은 좀 비싼감...   \n",
       "\n",
       "                                                 url  \\\n",
       "0  https://pcmap.place.naver.com/place/1090555407...   \n",
       "1  https://pcmap.place.naver.com/place/1090555407...   \n",
       "2  https://pcmap.place.naver.com/place/1090555407...   \n",
       "3  https://pcmap.place.naver.com/place/1090555407...   \n",
       "4  https://pcmap.place.naver.com/place/1090555407...   \n",
       "\n",
       "                                          text_clean  \n",
       "0  강릉 아르떼뮤지엄  이로써 여수 제주 강릉 까지 대한민국  아르떼뮤지엄 방문끝 각지...  \n",
       "1  이런곳 좋아요  움직이는 명화를보는건 더 리얼한 감동으로 다가와요유리에 비친 조명그...  \n",
       "2  여러가지모양의 불빛 으로 화려한모습을 보고 물줄기 파도 꽃 그림 파노라마 등 아주볼...  \n",
       "3  계속 보고 있으면 어지러워요ㅜㅜ 사진을 멋지게 찍을 수 있어서 사진맛집이에요 크고 ...  \n",
       "4  오후  방문했는데 바글바글하지는 않고 적당했어요   좀 비싼감이 있지만 관광지에 핫...  "
      ]
     },
     "execution_count": 11,
     "metadata": {},
     "output_type": "execute_result"
    }
   ],
   "source": [
    "df.head()"
   ]
  },
  {
   "cell_type": "markdown",
   "metadata": {},
   "source": [
    "### 형태소 분석"
   ]
  },
  {
   "cell_type": "code",
   "execution_count": 12,
   "metadata": {},
   "outputs": [],
   "source": [
    "df = df[:100]"
   ]
  },
  {
   "cell_type": "code",
   "execution_count": 13,
   "metadata": {},
   "outputs": [],
   "source": [
    "# KoNLPy는 한국어 정보처리를 위한 파이썬 패키지\n",
    "# KoNLPy에는 총 5가지의 형태소 분석 방법을 제공하고 이는 Hannanum, Kkma, Komoran, Mecab, Okt(구 Twitter) 5가지 클래스로 제공\n",
    "\n",
    "from konlpy.tag import Okt"
   ]
  },
  {
   "cell_type": "code",
   "execution_count": 14,
   "metadata": {},
   "outputs": [],
   "source": [
    "# okt = Okt()\n",
    "# texts_ko = [okt.morphs(doc) for doc in df.text_clean]\n",
    "# print(texts_ko[0])"
   ]
  },
  {
   "cell_type": "code",
   "execution_count": 15,
   "metadata": {},
   "outputs": [],
   "source": [
    "# # 명사 추출\n",
    "# text_noun = [okt.nouns(doc) for doc in df.text_clean]\n",
    "# print(text_noun[0])"
   ]
  },
  {
   "cell_type": "markdown",
   "metadata": {},
   "source": [
    "### 불용어 제거"
   ]
  },
  {
   "cell_type": "code",
   "execution_count": 16,
   "metadata": {},
   "outputs": [],
   "source": [
    "# 한국어 불용어 불러오기\n",
    "import json\n",
    "with open('korean_stopwords.json', encoding='utf-8') as f:\n",
    "    stopwordss = json.load(f)"
   ]
  },
  {
   "cell_type": "code",
   "execution_count": 17,
   "metadata": {},
   "outputs": [
    {
     "data": {
      "text/plain": [
       "['!', '\"', '$', '%', '&', \"'\", '(', ')', '*', '+']"
      ]
     },
     "execution_count": 17,
     "metadata": {},
     "output_type": "execute_result"
    }
   ],
   "source": [
    "stopwordss[:10]"
   ]
  },
  {
   "cell_type": "code",
   "execution_count": 18,
   "metadata": {},
   "outputs": [],
   "source": [
    "# 불용어 추가\n",
    "stopwordss.extend(['에서','고','이다','는','한','씨','하다'])"
   ]
  },
  {
   "cell_type": "code",
   "execution_count": 19,
   "metadata": {},
   "outputs": [],
   "source": [
    "def preprocess_okt(text):\n",
    "    #     text = spacing(text) # 띄어쓰기 보정 위에서 했으면 필요없습니다'\n",
    "    okt=Okt()\n",
    "    pos_words = okt.pos(text, stem=True)\n",
    "    words = [word for word, tag in pos_words if tag in ['Noun', 'Adjective', 'Verb'] ]\n",
    "    stopwords = stopwordss\n",
    "    stopped_words = [w for w in words if not w in stopwords]\n",
    "    return stopped_words"
   ]
  },
  {
   "cell_type": "code",
   "execution_count": 20,
   "metadata": {},
   "outputs": [],
   "source": [
    "df['text_clean_okt'] = \"\""
   ]
  },
  {
   "cell_type": "code",
   "execution_count": 21,
   "metadata": {},
   "outputs": [
    {
     "name": "stderr",
     "output_type": "stream",
     "text": [
      "100%|████████████████████████████████████████████████████████████████████████████████| 100/100 [00:18<00:00,  5.28it/s]\n"
     ]
    }
   ],
   "source": [
    "for i in tqdm(range(len(df))):\n",
    "    df.text_clean_okt.iloc[i] = preprocess_okt(df.text_clean.iloc[i])"
   ]
  },
  {
   "cell_type": "code",
   "execution_count": 22,
   "metadata": {
    "scrolled": true
   },
   "outputs": [
    {
     "data": {
      "text/html": [
       "<div>\n",
       "<style scoped>\n",
       "    .dataframe tbody tr th:only-of-type {\n",
       "        vertical-align: middle;\n",
       "    }\n",
       "\n",
       "    .dataframe tbody tr th {\n",
       "        vertical-align: top;\n",
       "    }\n",
       "\n",
       "    .dataframe thead th {\n",
       "        text-align: right;\n",
       "    }\n",
       "</style>\n",
       "<table border=\"1\" class=\"dataframe\">\n",
       "  <thead>\n",
       "    <tr style=\"text-align: right;\">\n",
       "      <th></th>\n",
       "      <th>place_name</th>\n",
       "      <th>user_name</th>\n",
       "      <th>text</th>\n",
       "      <th>url</th>\n",
       "      <th>text_clean</th>\n",
       "      <th>text_clean_okt</th>\n",
       "    </tr>\n",
       "  </thead>\n",
       "  <tbody>\n",
       "    <tr>\n",
       "      <th>0</th>\n",
       "      <td>아르떼뮤지엄 강릉</td>\n",
       "      <td>대구송풍기</td>\n",
       "      <td>강릉 아르떼뮤지엄  이로써 여수 제주 강릉 까지 대한민국  아르떼뮤지엄 방문끝 각지...</td>\n",
       "      <td>https://pcmap.place.naver.com/place/1090555407...</td>\n",
       "      <td>강릉 아르떼뮤지엄  이로써 여수 제주 강릉 까지 대한민국  아르떼뮤지엄 방문끝 각지...</td>\n",
       "      <td>[강릉, 아르떼, 뮤, 지엄, 여수, 제주, 강릉, 대한민국, 아르떼, 뮤, 지엄,...</td>\n",
       "    </tr>\n",
       "    <tr>\n",
       "      <th>1</th>\n",
       "      <td>아르떼뮤지엄 강릉</td>\n",
       "      <td>Olive71</td>\n",
       "      <td>이런곳 좋아요^^  움직이는 명화를보는건 더 리얼한 감동으로 다가와요.유리에 비친 ...</td>\n",
       "      <td>https://pcmap.place.naver.com/place/1090555407...</td>\n",
       "      <td>이런곳 좋아요  움직이는 명화를보는건 더 리얼한 감동으로 다가와요유리에 비친 조명그...</td>\n",
       "      <td>[곳, 좋다, 움직이다, 명화, 보다, 더, 리얼, 감동, 다가오다, 유리, 비치다...</td>\n",
       "    </tr>\n",
       "    <tr>\n",
       "      <th>2</th>\n",
       "      <td>아르떼뮤지엄 강릉</td>\n",
       "      <td>ujo****</td>\n",
       "      <td>여러가지모양의 불빛 으로 화려한모습을 보고 물줄기 파도 꽃 그림 파노라마 등 아주볼...</td>\n",
       "      <td>https://pcmap.place.naver.com/place/1090555407...</td>\n",
       "      <td>여러가지모양의 불빛 으로 화려한모습을 보고 물줄기 파도 꽃 그림 파노라마 등 아주볼...</td>\n",
       "      <td>[여러가지, 모양, 불빛, 화려하다, 모습, 보고, 물줄기, 파도, 꽃, 그림, 파...</td>\n",
       "    </tr>\n",
       "    <tr>\n",
       "      <th>3</th>\n",
       "      <td>아르떼뮤지엄 강릉</td>\n",
       "      <td>수실라</td>\n",
       "      <td>계속 보고 있으면 어지러워요ㅜㅜ 사진을 멋지게 찍을 수 있어서 사진맛집이에요 크고 ...</td>\n",
       "      <td>https://pcmap.place.naver.com/place/1090555407...</td>\n",
       "      <td>계속 보고 있으면 어지러워요ㅜㅜ 사진을 멋지게 찍을 수 있어서 사진맛집이에요 크고 ...</td>\n",
       "      <td>[계속, 보고, 어지럽다, 사진, 멋지다, 찍, 수, 사진, 맛집, 크다, 웅장, ...</td>\n",
       "    </tr>\n",
       "    <tr>\n",
       "      <th>4</th>\n",
       "      <td>아르떼뮤지엄 강릉</td>\n",
       "      <td>ssohenn</td>\n",
       "      <td>오후 5시쯤 방문했는데, 바글바글하지는 않고 적당했어요.  17000원은 좀 비싼감...</td>\n",
       "      <td>https://pcmap.place.naver.com/place/1090555407...</td>\n",
       "      <td>오후  방문했는데 바글바글하지는 않고 적당했어요   좀 비싼감이 있지만 관광지에 핫...</td>\n",
       "      <td>[오후, 방문, 않다, 적당하다, 비싸다, 감, 관광지, 핫, 곳, 수, 없다, 남...</td>\n",
       "    </tr>\n",
       "  </tbody>\n",
       "</table>\n",
       "</div>"
      ],
      "text/plain": [
       "  place_name user_name                                               text  \\\n",
       "0  아르떼뮤지엄 강릉     대구송풍기  강릉 아르떼뮤지엄  이로써 여수 제주 강릉 까지 대한민국  아르떼뮤지엄 방문끝 각지...   \n",
       "1  아르떼뮤지엄 강릉   Olive71  이런곳 좋아요^^  움직이는 명화를보는건 더 리얼한 감동으로 다가와요.유리에 비친 ...   \n",
       "2  아르떼뮤지엄 강릉   ujo****  여러가지모양의 불빛 으로 화려한모습을 보고 물줄기 파도 꽃 그림 파노라마 등 아주볼...   \n",
       "3  아르떼뮤지엄 강릉       수실라  계속 보고 있으면 어지러워요ㅜㅜ 사진을 멋지게 찍을 수 있어서 사진맛집이에요 크고 ...   \n",
       "4  아르떼뮤지엄 강릉   ssohenn  오후 5시쯤 방문했는데, 바글바글하지는 않고 적당했어요.  17000원은 좀 비싼감...   \n",
       "\n",
       "                                                 url  \\\n",
       "0  https://pcmap.place.naver.com/place/1090555407...   \n",
       "1  https://pcmap.place.naver.com/place/1090555407...   \n",
       "2  https://pcmap.place.naver.com/place/1090555407...   \n",
       "3  https://pcmap.place.naver.com/place/1090555407...   \n",
       "4  https://pcmap.place.naver.com/place/1090555407...   \n",
       "\n",
       "                                          text_clean  \\\n",
       "0  강릉 아르떼뮤지엄  이로써 여수 제주 강릉 까지 대한민국  아르떼뮤지엄 방문끝 각지...   \n",
       "1  이런곳 좋아요  움직이는 명화를보는건 더 리얼한 감동으로 다가와요유리에 비친 조명그...   \n",
       "2  여러가지모양의 불빛 으로 화려한모습을 보고 물줄기 파도 꽃 그림 파노라마 등 아주볼...   \n",
       "3  계속 보고 있으면 어지러워요ㅜㅜ 사진을 멋지게 찍을 수 있어서 사진맛집이에요 크고 ...   \n",
       "4  오후  방문했는데 바글바글하지는 않고 적당했어요   좀 비싼감이 있지만 관광지에 핫...   \n",
       "\n",
       "                                      text_clean_okt  \n",
       "0  [강릉, 아르떼, 뮤, 지엄, 여수, 제주, 강릉, 대한민국, 아르떼, 뮤, 지엄,...  \n",
       "1  [곳, 좋다, 움직이다, 명화, 보다, 더, 리얼, 감동, 다가오다, 유리, 비치다...  \n",
       "2  [여러가지, 모양, 불빛, 화려하다, 모습, 보고, 물줄기, 파도, 꽃, 그림, 파...  \n",
       "3  [계속, 보고, 어지럽다, 사진, 멋지다, 찍, 수, 사진, 맛집, 크다, 웅장, ...  \n",
       "4  [오후, 방문, 않다, 적당하다, 비싸다, 감, 관광지, 핫, 곳, 수, 없다, 남...  "
      ]
     },
     "execution_count": 22,
     "metadata": {},
     "output_type": "execute_result"
    }
   ],
   "source": [
    "df = df.reset_index(drop = True)\n",
    "df.head()"
   ]
  },
  {
   "cell_type": "code",
   "execution_count": 23,
   "metadata": {},
   "outputs": [],
   "source": [
    "from gensim.test.utils import common_texts\n",
    "from gensim.models.doc2vec import Doc2Vec, TaggedDocument\n",
    "documents = [TaggedDocument(doc, [i]) for i, doc in enumerate(df[\"text_clean\"])]\n",
    "model = Doc2Vec(documents, vector_size=5, window=2, min_count=1, workers=4)"
   ]
  },
  {
   "cell_type": "code",
   "execution_count": 24,
   "metadata": {},
   "outputs": [],
   "source": [
    "from gensim.test.utils import get_tmpfile\n",
    "fname = get_tmpfile(\"my_doc2vec_model\")\n",
    "model.save(fname)\n",
    "model = Doc2Vec.load(fname)  # you can continue training with the loaded mode"
   ]
  },
  {
   "cell_type": "code",
   "execution_count": 25,
   "metadata": {},
   "outputs": [],
   "source": [
    "vector = model.infer_vector([\"system\", \"response\"])"
   ]
  },
  {
   "cell_type": "code",
   "execution_count": 26,
   "metadata": {},
   "outputs": [
    {
     "name": "stderr",
     "output_type": "stream",
     "text": [
      "C:\\Users\\mh\\AppData\\Local\\Temp\\ipykernel_27216\\952498421.py:3: DeprecationWarning: Call to deprecated `docvecs` (The `docvecs` property has been renamed `dv`.).\n",
      "  document_vectors.append(model.docvecs[i])\n"
     ]
    },
    {
     "data": {
      "text/plain": [
       "[array([-0.16208465,  0.3086441 , -0.80255127, -2.2092075 , -0.26295865],\n",
       "       dtype=float32),\n",
       " array([-0.06178859,  0.24749534, -0.69559836, -2.7575061 , -0.30667284],\n",
       "       dtype=float32),\n",
       " array([ 0.01180229,  0.35970968, -0.43962583, -1.7543546 , -0.27968743],\n",
       "       dtype=float32),\n",
       " array([-0.25007504,  0.3608859 , -0.23919739, -2.1271274 , -0.33766276],\n",
       "       dtype=float32),\n",
       " array([-0.10992968,  0.4137924 , -0.57938564, -2.12753   , -0.13251957],\n",
       "       dtype=float32),\n",
       " array([-0.24659097,  0.0927195 , -0.46868858, -1.391764  , -0.39074245],\n",
       "       dtype=float32),\n",
       " array([ 0.05430708,  0.42417443, -0.4879819 , -1.7472719 , -0.25468352],\n",
       "       dtype=float32),\n",
       " array([-0.05891202,  0.26174065, -0.5545774 , -1.761898  , -0.17989922],\n",
       "       dtype=float32),\n",
       " array([-0.1448992 ,  0.2092238 , -0.37874526, -2.3478575 , -0.22590663],\n",
       "       dtype=float32),\n",
       " array([-0.12485354,  0.27423018, -0.42297405, -1.562509  , -0.40365097],\n",
       "       dtype=float32),\n",
       " array([-0.1105755 ,  0.36018175, -0.5494671 , -2.2187603 , -0.33816168],\n",
       "       dtype=float32),\n",
       " array([ 0.10370295,  0.3325572 , -0.38132542, -2.47204   , -0.07861812],\n",
       "       dtype=float32),\n",
       " array([ 0.0300289 ,  0.45930165, -0.2468135 , -1.7066679 , -0.14769988],\n",
       "       dtype=float32),\n",
       " array([-0.12939431,  0.40466663, -0.28631267, -1.8276653 , -0.3569602 ],\n",
       "       dtype=float32),\n",
       " array([-0.23095934,  0.20528395, -0.44050774, -1.4395368 , -0.31852248],\n",
       "       dtype=float32),\n",
       " array([ 0.01089397,  0.12578094, -0.49415487, -1.5151526 , -0.16257207],\n",
       "       dtype=float32),\n",
       " array([ 1.1812553e-01,  2.9311118e-01, -4.3928239e-01, -1.2130082e+00,\n",
       "        -9.2936802e-04], dtype=float32),\n",
       " array([-0.04190459,  0.4724388 , -0.6547727 , -2.3757336 , -0.25878754],\n",
       "       dtype=float32),\n",
       " array([-0.2063813 ,  0.57421017, -0.76972455, -2.6519876 , -0.36767498],\n",
       "       dtype=float32),\n",
       " array([ 0.17037052,  0.3019081 , -0.3546859 , -1.2184898 , -0.12605825],\n",
       "       dtype=float32),\n",
       " array([-0.19001456,  0.32989544, -0.6535911 , -2.07674   , -0.44136298],\n",
       "       dtype=float32),\n",
       " array([-0.11279331,  0.27480972, -0.26010612, -1.6904409 , -0.16265233],\n",
       "       dtype=float32),\n",
       " array([-0.03115982,  0.05703702, -0.2744899 , -1.0623506 ,  0.05973551],\n",
       "       dtype=float32),\n",
       " array([-0.30504245,  0.16952302, -0.53807616, -2.2336652 , -0.12139004],\n",
       "       dtype=float32),\n",
       " array([ 0.15705092,  0.3392223 , -0.47613904, -1.2533817 , -0.35867918],\n",
       "       dtype=float32),\n",
       " array([ 0.00632739, -0.02468189, -0.16091825, -0.61077124, -0.23518941],\n",
       "       dtype=float32),\n",
       " array([-0.0223198 ,  0.32875568, -0.44559374, -1.7223492 , -0.3193484 ],\n",
       "       dtype=float32),\n",
       " array([-0.10132382,  0.1984942 , -0.25913334, -1.4092417 , -0.26329246],\n",
       "       dtype=float32),\n",
       " array([ 0.12224785,  0.14697829, -0.07955272, -0.9393371 , -0.15586938],\n",
       "       dtype=float32),\n",
       " array([-0.02306125,  0.3358896 , -0.19682017, -1.6828831 , -0.32139522],\n",
       "       dtype=float32),\n",
       " array([-0.13720377,  0.46137285, -0.19016491, -1.6544497 , -0.29493383],\n",
       "       dtype=float32),\n",
       " array([-2.2893834e-03,  4.6632776e-01, -3.4914783e-01, -2.5134134e+00,\n",
       "        -4.0335083e-01], dtype=float32),\n",
       " array([ 0.18242429,  0.41618964, -0.25924984, -2.1039636 , -0.20502156],\n",
       "       dtype=float32),\n",
       " array([-0.21719803,  0.21640506, -0.6052947 , -2.448007  , -0.3909898 ],\n",
       "       dtype=float32),\n",
       " array([ 0.01510004,  0.23315437, -0.3012168 , -1.5696802 , -0.09487665],\n",
       "       dtype=float32),\n",
       " array([-0.02400458,  0.52787554, -0.5130532 , -2.20283   , -0.31504852],\n",
       "       dtype=float32),\n",
       " array([ 0.09899812,  0.32388142, -0.48187196, -1.3724692 , -0.32689518],\n",
       "       dtype=float32),\n",
       " array([ 0.11354183,  0.28913608, -0.43856418, -2.0395877 , -0.24184008],\n",
       "       dtype=float32),\n",
       " array([-0.28947216,  0.6022693 , -0.44821706, -2.4806569 , -0.48070794],\n",
       "       dtype=float32),\n",
       " array([ 0.0422726 ,  0.27831474, -0.29148945, -0.91999257, -0.03798787],\n",
       "       dtype=float32),\n",
       " array([-0.23263897,  0.10387916, -0.17228149, -1.725668  , -0.0095815 ],\n",
       "       dtype=float32),\n",
       " array([-0.11152878,  0.5267787 , -0.53284174, -1.8022789 , -0.16030881],\n",
       "       dtype=float32),\n",
       " array([-0.20467266,  0.24196883, -0.27234057, -0.81046283, -0.01217351],\n",
       "       dtype=float32),\n",
       " array([ 0.17688128,  0.22533342, -0.458638  , -1.5790136 , -0.22561325],\n",
       "       dtype=float32),\n",
       " array([-0.26115233,  0.16875128, -0.25522158, -1.7197804 , -0.32982722],\n",
       "       dtype=float32),\n",
       " array([ 0.03101296,  0.14153865, -0.08350923, -0.97983724, -0.04916863],\n",
       "       dtype=float32),\n",
       " array([-0.12245396, -0.03560848,  0.04865826, -0.70956516, -0.13562013],\n",
       "       dtype=float32),\n",
       " array([ 0.00737152,  0.21447554, -0.57131296, -2.285698  , -0.42774215],\n",
       "       dtype=float32),\n",
       " array([ 0.15952736,  0.31928557, -0.03181794, -0.79204726, -0.217209  ],\n",
       "       dtype=float32),\n",
       " array([-0.01602638,  0.3084582 , -0.19214064, -2.0628488 , -0.45166767],\n",
       "       dtype=float32),\n",
       " array([-0.30479306,  0.27736697, -0.7033978 , -2.5371552 , -0.4425879 ],\n",
       "       dtype=float32),\n",
       " array([ 0.09301154,  0.40590084, -0.2909487 , -1.8526031 , -0.24812771],\n",
       "       dtype=float32),\n",
       " array([ 0.02486088,  0.50213444, -0.25508177, -1.6526005 , -0.2989361 ],\n",
       "       dtype=float32),\n",
       " array([ 0.05562312,  0.61196774, -0.3454703 , -2.495243  , -0.2657863 ],\n",
       "       dtype=float32),\n",
       " array([-0.28354353,  0.39313826, -0.45663363, -1.8934441 , -0.13759623],\n",
       "       dtype=float32),\n",
       " array([-0.06858662, -0.03225305, -0.21996386, -0.9469819 , -0.18939722],\n",
       "       dtype=float32),\n",
       " array([-0.17514075,  0.41881558, -0.36886913, -1.8678501 , -0.37071446],\n",
       "       dtype=float32),\n",
       " array([ 0.15290311,  0.2112558 , -0.30924428, -1.3419275 , -0.1021008 ],\n",
       "       dtype=float32),\n",
       " array([-0.20248784,  0.17160185, -0.5326062 , -1.5688173 , -0.0405117 ],\n",
       "       dtype=float32),\n",
       " array([ 0.04979181,  0.292318  , -0.45270616, -1.9068761 , -0.44363612],\n",
       "       dtype=float32),\n",
       " array([-0.16337629,  0.46980166, -0.3081291 , -1.3585712 , -0.2682779 ],\n",
       "       dtype=float32),\n",
       " array([-0.19728087,  0.37518045, -0.24153309, -1.9294741 , -0.3494939 ],\n",
       "       dtype=float32),\n",
       " array([-0.06013744,  0.05566097, -0.13670182, -1.2315549 , -0.12695594],\n",
       "       dtype=float32),\n",
       " array([-0.20197195,  0.47847515, -0.34606716, -1.8426692 , -0.08789057],\n",
       "       dtype=float32),\n",
       " array([-0.11940006,  0.25275084, -0.1566072 , -0.5333804 , -0.10543484],\n",
       "       dtype=float32),\n",
       " array([ 0.10250328,  0.28067386, -0.37482423, -1.6250465 , -0.40744132],\n",
       "       dtype=float32),\n",
       " array([-0.0675675 ,  0.16446866, -0.13683772, -0.7886302 , -0.16271217],\n",
       "       dtype=float32),\n",
       " array([-0.10537172,  0.18932208, -0.53181213, -1.8376034 , -0.33984956],\n",
       "       dtype=float32),\n",
       " array([-0.09403221,  0.34057748, -0.3502448 , -1.0182945 , -0.2567696 ],\n",
       "       dtype=float32),\n",
       " array([-0.16723499, -0.08352853,  0.01526006, -0.5212904 ,  0.12207702],\n",
       "       dtype=float32),\n",
       " array([-0.21520936,  0.44904566, -0.41434097, -1.8382871 , -0.28487   ],\n",
       "       dtype=float32),\n",
       " array([-0.12235808, -0.06566762, -0.0434879 , -0.89182746, -0.12274428],\n",
       "       dtype=float32),\n",
       " array([-0.05486904,  0.6224145 , -0.52157795, -2.2350745 , -0.1951075 ],\n",
       "       dtype=float32),\n",
       " array([ 0.07518497,  0.04547421, -0.18750185, -0.683521  ,  0.06559811],\n",
       "       dtype=float32),\n",
       " array([-0.14573787, -0.00192497, -0.24967809, -0.75999975,  0.07421008],\n",
       "       dtype=float32),\n",
       " array([-7.5562678e-02,  4.3956816e-01, -4.1921765e-01, -1.2152984e+00,\n",
       "         2.5609898e-04], dtype=float32),\n",
       " array([-0.2276152 ,  0.25299537, -0.53217864, -1.3696142 , -0.27801856],\n",
       "       dtype=float32),\n",
       " array([ 0.08781704,  0.02638916, -0.08125956, -0.7784049 , -0.2889668 ],\n",
       "       dtype=float32),\n",
       " array([-0.09756515,  0.14374667, -0.36233953, -0.86389863, -0.22510524],\n",
       "       dtype=float32),\n",
       " array([ 0.02386026,  0.3465522 , -0.26447582, -2.3129537 , -0.36649278],\n",
       "       dtype=float32),\n",
       " array([-0.28332958,  0.24946588, -0.37859428, -1.9937623 , -0.49133223],\n",
       "       dtype=float32),\n",
       " array([-0.11657015,  0.1777191 , -0.08666941, -1.3915681 , -0.08120191],\n",
       "       dtype=float32),\n",
       " array([-0.066297  ,  0.05291333,  0.02362519, -0.30699536, -0.05149283],\n",
       "       dtype=float32),\n",
       " array([ 0.07398684,  0.04731107, -0.1263782 , -1.3029106 , -0.07446653],\n",
       "       dtype=float32),\n",
       " array([-0.18158397,  0.4351115 , -0.24559413, -2.22406   , -0.37886974],\n",
       "       dtype=float32),\n",
       " array([ 0.03700652,  0.23377477, -0.26472804, -1.3941814 , -0.06978182],\n",
       "       dtype=float32),\n",
       " array([ 0.10191939,  0.41069525, -0.23527978, -1.0271517 , -0.05290665],\n",
       "       dtype=float32),\n",
       " array([ 0.09436247,  0.09035296, -0.25633454, -0.68115664, -0.0865634 ],\n",
       "       dtype=float32),\n",
       " array([-0.2185755,  0.2364017, -0.2873826, -0.9030465, -0.2998166],\n",
       "       dtype=float32),\n",
       " array([-0.03500394,  0.57080084, -0.41986585, -1.8320386 , -0.2879743 ],\n",
       "       dtype=float32),\n",
       " array([-0.03708788,  0.06495164, -0.22661124, -1.34038   , -0.25477257],\n",
       "       dtype=float32),\n",
       " array([-0.15407081,  0.4811535 , -0.37992623, -1.5191598 , -0.1342282 ],\n",
       "       dtype=float32),\n",
       " array([ 0.0305359 ,  0.20625155, -0.4056438 , -1.8030262 , -0.23905599],\n",
       "       dtype=float32),\n",
       " array([-0.03214337,  0.6381162 , -0.38706353, -2.4129107 , -0.4402076 ],\n",
       "       dtype=float32),\n",
       " array([ 0.15062544, -0.00861847, -0.13987531, -0.58951366, -0.09737384],\n",
       "       dtype=float32),\n",
       " array([ 0.12109433,  0.25608525, -0.47258487, -1.4694551 , -0.3915308 ],\n",
       "       dtype=float32),\n",
       " array([-0.10775515,  0.23565899, -0.32541853, -1.3411967 , -0.0756655 ],\n",
       "       dtype=float32),\n",
       " array([-0.17838898,  0.09136352, -0.25359777, -0.74573374,  0.09442614],\n",
       "       dtype=float32),\n",
       " array([-0.01725016,  0.12575549, -0.23666853, -1.7437705 , -0.23767723],\n",
       "       dtype=float32),\n",
       " array([-0.01562307, -0.13814668,  0.08787783, -0.3726733 , -0.06668578],\n",
       "       dtype=float32)]"
      ]
     },
     "execution_count": 26,
     "metadata": {},
     "output_type": "execute_result"
    }
   ],
   "source": [
    "document_vectors = []\n",
    "for i in range(len(df)):\n",
    "    document_vectors.append(model.docvecs[i])\n",
    "document_vectors"
   ]
  },
  {
   "cell_type": "code",
   "execution_count": 27,
   "metadata": {},
   "outputs": [],
   "source": [
    "#ward 에 필요한 라이브러리 import\n",
    "from scipy.cluster.hierarchy import dendrogram, linkage\n",
    "from matplotlib import pyplot as plt\n",
    "from sklearn.cluster import AgglomerativeClustering\n",
    "from sklearn.metrics.cluster import silhouette_score"
   ]
  },
  {
   "cell_type": "code",
   "execution_count": 28,
   "metadata": {},
   "outputs": [
    {
     "data": {
      "image/png": "[encoded data removed]",
      "text/plain": [
       "<Figure size 1080x648 with 1 Axes>"
      ]
     },
     "metadata": {
      "needs_background": "light"
     },
     "output_type": "display_data"
    }
   ],
   "source": [
    "linked = linkage(document_vectors, 'ward') #document vector로 ward clustering진행 #시간 오래 걸림\n",
    "\n",
    "plt.figure(figsize=(15, 9)) #그래프 사이즈 지정\n",
    "#덴드로그램 그리기\n",
    "dendrogram(linked,\n",
    "            orientation='top',\n",
    "            distance_sort='descending',\n",
    "            show_leaf_counts=True)\n",
    "plt.show()"
   ]
  },
  {
   "cell_type": "code",
   "execution_count": 29,
   "metadata": {},
   "outputs": [],
   "source": [
    "# 클러스터 6개로 만들기\n",
    "cluster = AgglomerativeClustering(n_clusters=6, \n",
    "                                 linkage='ward')\n",
    "\n",
    "result = cluster.fit_predict(document_vectors)"
   ]
  },
  {
   "cell_type": "code",
   "execution_count": 31,
   "metadata": {},
   "outputs": [
    {
     "data": {
      "text/html": [
       "<div>\n",
       "<style scoped>\n",
       "    .dataframe tbody tr th:only-of-type {\n",
       "        vertical-align: middle;\n",
       "    }\n",
       "\n",
       "    .dataframe tbody tr th {\n",
       "        vertical-align: top;\n",
       "    }\n",
       "\n",
       "    .dataframe thead th {\n",
       "        text-align: right;\n",
       "    }\n",
       "</style>\n",
       "<table border=\"1\" class=\"dataframe\">\n",
       "  <thead>\n",
       "    <tr style=\"text-align: right;\">\n",
       "      <th></th>\n",
       "      <th>place_name</th>\n",
       "      <th>user_name</th>\n",
       "      <th>text</th>\n",
       "      <th>url</th>\n",
       "      <th>text_clean</th>\n",
       "      <th>text_clean_okt</th>\n",
       "      <th>cluster</th>\n",
       "    </tr>\n",
       "  </thead>\n",
       "  <tbody>\n",
       "    <tr>\n",
       "      <th>0</th>\n",
       "      <td>아르떼뮤지엄 강릉</td>\n",
       "      <td>대구송풍기</td>\n",
       "      <td>강릉 아르떼뮤지엄  이로써 여수 제주 강릉 까지 대한민국  아르떼뮤지엄 방문끝 각지...</td>\n",
       "      <td>https://pcmap.place.naver.com/place/1090555407...</td>\n",
       "      <td>강릉 아르떼뮤지엄  이로써 여수 제주 강릉 까지 대한민국  아르떼뮤지엄 방문끝 각지...</td>\n",
       "      <td>[강릉, 아르떼, 뮤, 지엄, 여수, 제주, 강릉, 대한민국, 아르떼, 뮤, 지엄,...</td>\n",
       "      <td>1</td>\n",
       "    </tr>\n",
       "    <tr>\n",
       "      <th>1</th>\n",
       "      <td>아르떼뮤지엄 강릉</td>\n",
       "      <td>Olive71</td>\n",
       "      <td>이런곳 좋아요^^  움직이는 명화를보는건 더 리얼한 감동으로 다가와요.유리에 비친 ...</td>\n",
       "      <td>https://pcmap.place.naver.com/place/1090555407...</td>\n",
       "      <td>이런곳 좋아요  움직이는 명화를보는건 더 리얼한 감동으로 다가와요유리에 비친 조명그...</td>\n",
       "      <td>[곳, 좋다, 움직이다, 명화, 보다, 더, 리얼, 감동, 다가오다, 유리, 비치다...</td>\n",
       "      <td>5</td>\n",
       "    </tr>\n",
       "    <tr>\n",
       "      <th>2</th>\n",
       "      <td>아르떼뮤지엄 강릉</td>\n",
       "      <td>ujo****</td>\n",
       "      <td>여러가지모양의 불빛 으로 화려한모습을 보고 물줄기 파도 꽃 그림 파노라마 등 아주볼...</td>\n",
       "      <td>https://pcmap.place.naver.com/place/1090555407...</td>\n",
       "      <td>여러가지모양의 불빛 으로 화려한모습을 보고 물줄기 파도 꽃 그림 파노라마 등 아주볼...</td>\n",
       "      <td>[여러가지, 모양, 불빛, 화려하다, 모습, 보고, 물줄기, 파도, 꽃, 그림, 파...</td>\n",
       "      <td>3</td>\n",
       "    </tr>\n",
       "    <tr>\n",
       "      <th>3</th>\n",
       "      <td>아르떼뮤지엄 강릉</td>\n",
       "      <td>수실라</td>\n",
       "      <td>계속 보고 있으면 어지러워요ㅜㅜ 사진을 멋지게 찍을 수 있어서 사진맛집이에요 크고 ...</td>\n",
       "      <td>https://pcmap.place.naver.com/place/1090555407...</td>\n",
       "      <td>계속 보고 있으면 어지러워요ㅜㅜ 사진을 멋지게 찍을 수 있어서 사진맛집이에요 크고 ...</td>\n",
       "      <td>[계속, 보고, 어지럽다, 사진, 멋지다, 찍, 수, 사진, 맛집, 크다, 웅장, ...</td>\n",
       "      <td>1</td>\n",
       "    </tr>\n",
       "    <tr>\n",
       "      <th>4</th>\n",
       "      <td>아르떼뮤지엄 강릉</td>\n",
       "      <td>ssohenn</td>\n",
       "      <td>오후 5시쯤 방문했는데, 바글바글하지는 않고 적당했어요.  17000원은 좀 비싼감...</td>\n",
       "      <td>https://pcmap.place.naver.com/place/1090555407...</td>\n",
       "      <td>오후  방문했는데 바글바글하지는 않고 적당했어요   좀 비싼감이 있지만 관광지에 핫...</td>\n",
       "      <td>[오후, 방문, 않다, 적당하다, 비싸다, 감, 관광지, 핫, 곳, 수, 없다, 남...</td>\n",
       "      <td>1</td>\n",
       "    </tr>\n",
       "  </tbody>\n",
       "</table>\n",
       "</div>"
      ],
      "text/plain": [
       "  place_name user_name                                               text  \\\n",
       "0  아르떼뮤지엄 강릉     대구송풍기  강릉 아르떼뮤지엄  이로써 여수 제주 강릉 까지 대한민국  아르떼뮤지엄 방문끝 각지...   \n",
       "1  아르떼뮤지엄 강릉   Olive71  이런곳 좋아요^^  움직이는 명화를보는건 더 리얼한 감동으로 다가와요.유리에 비친 ...   \n",
       "2  아르떼뮤지엄 강릉   ujo****  여러가지모양의 불빛 으로 화려한모습을 보고 물줄기 파도 꽃 그림 파노라마 등 아주볼...   \n",
       "3  아르떼뮤지엄 강릉       수실라  계속 보고 있으면 어지러워요ㅜㅜ 사진을 멋지게 찍을 수 있어서 사진맛집이에요 크고 ...   \n",
       "4  아르떼뮤지엄 강릉   ssohenn  오후 5시쯤 방문했는데, 바글바글하지는 않고 적당했어요.  17000원은 좀 비싼감...   \n",
       "\n",
       "                                                 url  \\\n",
       "0  https://pcmap.place.naver.com/place/1090555407...   \n",
       "1  https://pcmap.place.naver.com/place/1090555407...   \n",
       "2  https://pcmap.place.naver.com/place/1090555407...   \n",
       "3  https://pcmap.place.naver.com/place/1090555407...   \n",
       "4  https://pcmap.place.naver.com/place/1090555407...   \n",
       "\n",
       "                                          text_clean  \\\n",
       "0  강릉 아르떼뮤지엄  이로써 여수 제주 강릉 까지 대한민국  아르떼뮤지엄 방문끝 각지...   \n",
       "1  이런곳 좋아요  움직이는 명화를보는건 더 리얼한 감동으로 다가와요유리에 비친 조명그...   \n",
       "2  여러가지모양의 불빛 으로 화려한모습을 보고 물줄기 파도 꽃 그림 파노라마 등 아주볼...   \n",
       "3  계속 보고 있으면 어지러워요ㅜㅜ 사진을 멋지게 찍을 수 있어서 사진맛집이에요 크고 ...   \n",
       "4  오후  방문했는데 바글바글하지는 않고 적당했어요   좀 비싼감이 있지만 관광지에 핫...   \n",
       "\n",
       "                                      text_clean_okt  cluster  \n",
       "0  [강릉, 아르떼, 뮤, 지엄, 여수, 제주, 강릉, 대한민국, 아르떼, 뮤, 지엄,...        1  \n",
       "1  [곳, 좋다, 움직이다, 명화, 보다, 더, 리얼, 감동, 다가오다, 유리, 비치다...        5  \n",
       "2  [여러가지, 모양, 불빛, 화려하다, 모습, 보고, 물줄기, 파도, 꽃, 그림, 파...        3  \n",
       "3  [계속, 보고, 어지럽다, 사진, 멋지다, 찍, 수, 사진, 맛집, 크다, 웅장, ...        1  \n",
       "4  [오후, 방문, 않다, 적당하다, 비싸다, 감, 관광지, 핫, 곳, 수, 없다, 남...        1  "
      ]
     },
     "execution_count": 31,
     "metadata": {},
     "output_type": "execute_result"
    }
   ],
   "source": [
    "df['cluster'] = result\n",
    "df.head()"
   ]
  }
 ],
 "metadata": {
  "kernelspec": {
   "display_name": "Python 3 (ipykernel)",
   "language": "python",
   "name": "python3"
  },
  "language_info": {
   "codemirror_mode": {
    "name": "ipython",
    "version": 3
   },
   "file_extension": ".py",
   "mimetype": "text/x-python",
   "name": "python",
   "nbconvert_exporter": "python",
   "pygments_lexer": "ipython3",
   "version": "3.8.8"
  },
  "toc": {
   "base_numbering": 1,
   "nav_menu": {},
   "number_sections": true,
   "sideBar": true,
   "skip_h1_title": false,
   "title_cell": "Table of Contents",
   "title_sidebar": "Contents",
   "toc_cell": false,
   "toc_position": {},
   "toc_section_display": true,
   "toc_window_display": false
  }
 },
 "nbformat": 4,
 "nbformat_minor": 4
}
