{
 "cells": [
  {
   "cell_type": "markdown",
   "id": "d88a34df",
   "metadata": {},
   "source": [
    "https://map.naver.com/v5/?c=14138728.9902886,4517748.2116690,15,0,0,0,dh"
   ]
  },
  {
   "cell_type": "markdown",
   "id": "894070b0",
   "metadata": {},
   "source": [
    "# NAVER map review crawling\n",
    "\n",
    "\n"
   ]
  },
  {
   "cell_type": "markdown",
   "id": "3a93a810",
   "metadata": {},
   "source": [
    "네이버 지도에서 장소를 선택했을 때 보이는 리뷰 크롤링 하기"
   ]
  },
  {
   "cell_type": "markdown",
   "id": "deca0e02",
   "metadata": {},
   "source": [
    "1. 네이버 지도 검색어 기반 url 수집\n",
    "2. url 접속하여 리뷰 크롤링"
   ]
  },
  {
   "cell_type": "markdown",
   "id": "d2310af6",
   "metadata": {},
   "source": [
    "## 검색어 기반 url 수집"
   ]
  },
  {
   "cell_type": "code",
   "execution_count": 1,
   "id": "a1e4bfd6",
   "metadata": {},
   "outputs": [],
   "source": [
    "import pandas as pd \n",
    "from selenium import webdriver \n",
    "from selenium.webdriver.common.keys import Keys \n",
    "from selenium.common.exceptions import NoSuchElementException \n",
    "import time \n",
    "import re \n",
    "from bs4 import BeautifulSoup \n",
    "from tqdm import tqdm \n",
    "from selenium.common.exceptions import TimeoutException\n",
    "from selenium.webdriver.support.ui import WebDriverWait\n",
    "from selenium.webdriver.support import expected_conditions as EC\n",
    "from selenium.webdriver.common.by import By\n",
    "import warnings \n",
    "warnings.filterwarnings(action='ignore') "
   ]
  },
  {
   "cell_type": "code",
   "execution_count": 2,
   "id": "2189d3b9",
   "metadata": {},
   "outputs": [],
   "source": [
    "keyword = '그릭요거트'"
   ]
  },
  {
   "cell_type": "code",
   "execution_count": 3,
   "id": "58b4d8a5",
   "metadata": {},
   "outputs": [],
   "source": [
    "driver = webdriver.Chrome(executable_path=r'chromedriver.exe') \n",
    "\n",
    "try: \n",
    "    naver_map_search_url = f'https://map.naver.com/v5/search/{keyword}/place' # 검색 url 만들기 \n",
    "\n",
    "    driver.get(naver_map_search_url) #검색 url 접속\n",
    "    time.sleep(4)\n",
    "    \n",
    "    driver.switch_to.frame(\"searchIframe\") #프레임 전환\n",
    "\n",
    "    #파싱\n",
    "    html = driver.page_source \n",
    "    soup = BeautifulSoup(html, 'lxml') \n",
    "    time.sleep(1) \n",
    "\n",
    "    #장소 넘버가 태그가 아닌 script에 담겨있어서 소스을 text(str)로 보고 정규표현식으로 추출\n",
    "    #1번째 페이지의 50개 url 정보 가져옴. \n",
    "    aaa = soup.html.body.text\n",
    "\n",
    "    #숫자 추출\n",
    "    p = re.compile('{}(.*?){}'.format(re.escape('\"id\":\"RestaurantListSummary:'), re.escape('\",\"typename\"')))\n",
    "    place_list = p.findall(aaa)\n",
    "\n",
    "except : \n",
    "    pass"
   ]
  },
  {
   "cell_type": "code",
   "execution_count": 4,
   "id": "718fa9de",
   "metadata": {},
   "outputs": [],
   "source": [
    "final_url = []\n",
    "for i in range(50): #50 이후엔 다른 문자가 함께 들어와서 range를 직접 숫자로 지정 \n",
    "    final_url.append('https://pcmap.place.naver.com/restaurant/'+place_list[i]+'/review/visitor#')   "
   ]
  },
  {
   "cell_type": "code",
   "execution_count": 5,
   "id": "6a8ff3cc",
   "metadata": {},
   "outputs": [
    {
     "data": {
      "text/html": [
       "<div>\n",
       "<style scoped>\n",
       "    .dataframe tbody tr th:only-of-type {\n",
       "        vertical-align: middle;\n",
       "    }\n",
       "\n",
       "    .dataframe tbody tr th {\n",
       "        vertical-align: top;\n",
       "    }\n",
       "\n",
       "    .dataframe thead th {\n",
       "        text-align: right;\n",
       "    }\n",
       "</style>\n",
       "<table border=\"1\" class=\"dataframe\">\n",
       "  <thead>\n",
       "    <tr style=\"text-align: right;\">\n",
       "      <th></th>\n",
       "      <th>url</th>\n",
       "    </tr>\n",
       "  </thead>\n",
       "  <tbody>\n",
       "    <tr>\n",
       "      <th>0</th>\n",
       "      <td>https://pcmap.place.naver.com/restaurant/19515...</td>\n",
       "    </tr>\n",
       "    <tr>\n",
       "      <th>1</th>\n",
       "      <td>https://pcmap.place.naver.com/restaurant/18685...</td>\n",
       "    </tr>\n",
       "    <tr>\n",
       "      <th>2</th>\n",
       "      <td>https://pcmap.place.naver.com/restaurant/12816...</td>\n",
       "    </tr>\n",
       "    <tr>\n",
       "      <th>3</th>\n",
       "      <td>https://pcmap.place.naver.com/restaurant/84025...</td>\n",
       "    </tr>\n",
       "    <tr>\n",
       "      <th>4</th>\n",
       "      <td>https://pcmap.place.naver.com/restaurant/11514...</td>\n",
       "    </tr>\n",
       "  </tbody>\n",
       "</table>\n",
       "</div>"
      ],
      "text/plain": [
       "                                                 url\n",
       "0  https://pcmap.place.naver.com/restaurant/19515...\n",
       "1  https://pcmap.place.naver.com/restaurant/18685...\n",
       "2  https://pcmap.place.naver.com/restaurant/12816...\n",
       "3  https://pcmap.place.naver.com/restaurant/84025...\n",
       "4  https://pcmap.place.naver.com/restaurant/11514..."
      ]
     },
     "execution_count": 5,
     "metadata": {},
     "output_type": "execute_result"
    }
   ],
   "source": [
    "url_df = pd.DataFrame(final_url, columns = ['url'])\n",
    "url_df.head()"
   ]
  },
  {
   "cell_type": "code",
   "execution_count": 6,
   "id": "5c63ac72",
   "metadata": {},
   "outputs": [],
   "source": [
    "url_df.to_csv(\"naver_place_url.csv\")"
   ]
  },
  {
   "cell_type": "markdown",
   "id": "92d76e6f",
   "metadata": {},
   "source": [
    "## 수집한 url 기반 리뷰 텍스트 크롤링"
   ]
  },
  {
   "cell_type": "code",
   "execution_count": 7,
   "id": "e7edc841",
   "metadata": {},
   "outputs": [],
   "source": [
    "url_df = pd.read_csv(\"naver_place_url.csv\")"
   ]
  },
  {
   "cell_type": "code",
   "execution_count": 16,
   "id": "327dc24e",
   "metadata": {},
   "outputs": [],
   "source": [
    "import pandas as pd \n",
    "from selenium import webdriver \n",
    "from selenium.webdriver.common.keys import Keys \n",
    "from selenium.common.exceptions import NoSuchElementException \n",
    "import time \n",
    "import re \n",
    "from bs4 import BeautifulSoup \n",
    "from tqdm import tqdm \n",
    "\n",
    "# 웹드라이버 접속 \n",
    "driver = webdriver.Chrome('chromedriver.exe') \n",
    "\n",
    "# 수집할 정보\n",
    "review_list = [] # 리뷰 \n",
    "url_list=[]\n",
    "place_name=[]\n",
    "user_list=[]"
   ]
  },
  {
   "cell_type": "code",
   "execution_count": 17,
   "id": "31e38c41",
   "metadata": {},
   "outputs": [],
   "source": [
    "#for i in range(len(url_df)): \n",
    "\n",
    "for i in range(3): # ★샘플로 3개만. 실 사용시에는 위 주석 코드로 사용.\n",
    "    # 식당 리뷰 개별 url 접속 \n",
    "    driver.get(url_df['url'][i]) \n",
    "    thisurl = url_df['url'][i] \n",
    "    time.sleep(2) \n",
    "    \n",
    "    # 더보기 버튼 끝까지 누르기 \n",
    "    try :\n",
    "        while driver.find_element(By.CLASS_NAME, \"_3iTUo\").is_displayed:\n",
    "            try :\n",
    "                time.sleep(3) #더보기 버튼을 너무 빨리 누르면 새로운 리뷰가 뜨지 않고 기존 페이지 리뷰가 반복해서 뜸 #여기 때문에 느림\n",
    "                WebDriverWait(driver,2).until(EC.element_to_be_clickable((By.CLASS_NAME, '_3iTUo'))).click()\n",
    "            except TimeoutException :\n",
    "                break\n",
    "    except :\n",
    "        pass\n",
    "\n",
    "    # 파싱 \n",
    "    time.sleep(1) \n",
    "    html = driver.page_source \n",
    "    soup = BeautifulSoup(html, 'lxml') \n",
    "    time.sleep(1) \n",
    "    \n",
    "    # title\n",
    "    title = soup.find('span', attrs = {'class':'_3XamX'}).text\n",
    "\n",
    "    # 리뷰 텍스트 -> 공백 발생 O\n",
    "    num = soup.find_all('li', attrs = {'class':'_3l2Wz'})\n",
    "    #reviews = soup.find_all('span', attrs = {'class':'WoYOw'})\n",
    "    for i in range(len(num)):\n",
    "        try:\n",
    "            review_list.append(num[i].find('span', attrs = {'class':'WoYOw'}).text)\n",
    "        except:#사진만 있는 리뷰, 공백 발생\n",
    "            review_list.append('')   \n",
    "            \n",
    "    # 유저 정보 -> 공백 발생 X\n",
    "    user_names = soup.find_all('div', attrs = {'class':'_1vou-'})\n",
    "    for user_name in user_names:\n",
    "        user_list.append(user_name.text)\n",
    "        url_list.append(thisurl)\n",
    "        place_name.append(title)\n",
    "            "
   ]
  },
  {
   "cell_type": "code",
   "execution_count": 18,
   "id": "b1bdea8b",
   "metadata": {},
   "outputs": [
    {
     "data": {
      "text/plain": [
       "(165, 165, 165, 165)"
      ]
     },
     "execution_count": 18,
     "metadata": {},
     "output_type": "execute_result"
    }
   ],
   "source": [
    "# 수집된 데이터 개수 확인\n",
    "len(place_name), len(review_list), len(url_list), len(user_list)"
   ]
  },
  {
   "cell_type": "code",
   "execution_count": 19,
   "id": "6b99f4fd",
   "metadata": {},
   "outputs": [
    {
     "data": {
      "text/plain": [
       "(3, 127, 3, 107)"
      ]
     },
     "execution_count": 19,
     "metadata": {},
     "output_type": "execute_result"
    }
   ],
   "source": [
    "# 각 리스트 중복 확인 (단순 확인 작업)\n",
    "len(set(place_name)), len(set(review_list)), len(set(url_list)), len(set(user_list))"
   ]
  },
  {
   "cell_type": "code",
   "execution_count": 20,
   "id": "c5d50ae5",
   "metadata": {},
   "outputs": [],
   "source": [
    "# 수집한 리스트를 DataFrame으로 전환\n",
    "data = {'place_name' : place_name,\n",
    "        'user_name' : user_list,\n",
    "        'review' : review_list,\n",
    "        'url': url_list}\n",
    "df = pd.DataFrame(data)"
   ]
  },
  {
   "cell_type": "code",
   "execution_count": 21,
   "id": "ba890255",
   "metadata": {},
   "outputs": [
    {
     "name": "stdout",
     "output_type": "stream",
     "text": [
      "<class 'pandas.core.frame.DataFrame'>\n",
      "RangeIndex: 165 entries, 0 to 164\n",
      "Data columns (total 4 columns):\n",
      " #   Column      Non-Null Count  Dtype \n",
      "---  ------      --------------  ----- \n",
      " 0   place_name  165 non-null    object\n",
      " 1   user_name   165 non-null    object\n",
      " 2   review      165 non-null    object\n",
      " 3   url         165 non-null    object\n",
      "dtypes: object(4)\n",
      "memory usage: 5.3+ KB\n"
     ]
    }
   ],
   "source": [
    "df.info()"
   ]
  },
  {
   "cell_type": "code",
   "execution_count": 22,
   "id": "8345066b",
   "metadata": {},
   "outputs": [
    {
     "data": {
      "text/html": [
       "<div>\n",
       "<style scoped>\n",
       "    .dataframe tbody tr th:only-of-type {\n",
       "        vertical-align: middle;\n",
       "    }\n",
       "\n",
       "    .dataframe tbody tr th {\n",
       "        vertical-align: top;\n",
       "    }\n",
       "\n",
       "    .dataframe thead th {\n",
       "        text-align: right;\n",
       "    }\n",
       "</style>\n",
       "<table border=\"1\" class=\"dataframe\">\n",
       "  <thead>\n",
       "    <tr style=\"text-align: right;\">\n",
       "      <th></th>\n",
       "      <th>place_name</th>\n",
       "      <th>user_name</th>\n",
       "      <th>review</th>\n",
       "      <th>url</th>\n",
       "    </tr>\n",
       "  </thead>\n",
       "  <tbody>\n",
       "    <tr>\n",
       "      <th>0</th>\n",
       "      <td>스트릿 그릭요거트 카페</td>\n",
       "      <td>CJ65</td>\n",
       "      <td>커피도 맛있고 요거트볼도 맛있고 샌드위치도 맛있었어요! 평일 낮에 사람 별로 없을 ...</td>\n",
       "      <td>https://pcmap.place.naver.com/restaurant/19515...</td>\n",
       "    </tr>\n",
       "    <tr>\n",
       "      <th>1</th>\n",
       "      <td>스트릿 그릭요거트 카페</td>\n",
       "      <td>꽃길을 거닐다</td>\n",
       "      <td>그릭요거트 생과일볼과 애플시나몬 요거트볼 둘 다 달지 않고 담백하고 깔끔하니 맛있어...</td>\n",
       "      <td>https://pcmap.place.naver.com/restaurant/19515...</td>\n",
       "    </tr>\n",
       "    <tr>\n",
       "      <th>2</th>\n",
       "      <td>스트릿 그릭요거트 카페</td>\n",
       "      <td>kiri</td>\n",
       "      <td>샐러드를 먹는 방식이 특이하네용~ 샐러드의 이케아 효과?ㅎㅎ 창 밖에 나무 보여서 ...</td>\n",
       "      <td>https://pcmap.place.naver.com/restaurant/19515...</td>\n",
       "    </tr>\n",
       "    <tr>\n",
       "      <th>3</th>\n",
       "      <td>스트릿 그릭요거트 카페</td>\n",
       "      <td>쏘혜님</td>\n",
       "      <td>아몬드라떼 첨 마셔보는데 꼬숩고 맛있네요!\\n주문시에 머그/일회용 등 선택할 수 있...</td>\n",
       "      <td>https://pcmap.place.naver.com/restaurant/19515...</td>\n",
       "    </tr>\n",
       "    <tr>\n",
       "      <th>4</th>\n",
       "      <td>스트릿 그릭요거트 카페</td>\n",
       "      <td>das****</td>\n",
       "      <td>지나가다가 들렸는데 진짜 분위기 맛집ㅠㅠ 곳곳마다 깨알소품들이랑 노래며 인테리어까지...</td>\n",
       "      <td>https://pcmap.place.naver.com/restaurant/19515...</td>\n",
       "    </tr>\n",
       "    <tr>\n",
       "      <th>...</th>\n",
       "      <td>...</td>\n",
       "      <td>...</td>\n",
       "      <td>...</td>\n",
       "      <td>...</td>\n",
       "    </tr>\n",
       "    <tr>\n",
       "      <th>160</th>\n",
       "      <td>모노커피</td>\n",
       "      <td>ku****</td>\n",
       "      <td>커피 맛있어요~~</td>\n",
       "      <td>https://pcmap.place.naver.com/restaurant/12816...</td>\n",
       "    </tr>\n",
       "    <tr>\n",
       "      <th>161</th>\n",
       "      <td>모노커피</td>\n",
       "      <td>ku****</td>\n",
       "      <td>커피 넘 맛있어여</td>\n",
       "      <td>https://pcmap.place.naver.com/restaurant/12816...</td>\n",
       "    </tr>\n",
       "    <tr>\n",
       "      <th>162</th>\n",
       "      <td>모노커피</td>\n",
       "      <td>미니3695</td>\n",
       "      <td>좋아요</td>\n",
       "      <td>https://pcmap.place.naver.com/restaurant/12816...</td>\n",
       "    </tr>\n",
       "    <tr>\n",
       "      <th>163</th>\n",
       "      <td>모노커피</td>\n",
       "      <td>위티브</td>\n",
       "      <td>감사합니다</td>\n",
       "      <td>https://pcmap.place.naver.com/restaurant/12816...</td>\n",
       "    </tr>\n",
       "    <tr>\n",
       "      <th>164</th>\n",
       "      <td>모노커피</td>\n",
       "      <td>타타타45</td>\n",
       "      <td>감사합니다</td>\n",
       "      <td>https://pcmap.place.naver.com/restaurant/12816...</td>\n",
       "    </tr>\n",
       "  </tbody>\n",
       "</table>\n",
       "<p>165 rows × 4 columns</p>\n",
       "</div>"
      ],
      "text/plain": [
       "       place_name user_name  \\\n",
       "0    스트릿 그릭요거트 카페      CJ65   \n",
       "1    스트릿 그릭요거트 카페   꽃길을 거닐다   \n",
       "2    스트릿 그릭요거트 카페      kiri   \n",
       "3    스트릿 그릭요거트 카페       쏘혜님   \n",
       "4    스트릿 그릭요거트 카페   das****   \n",
       "..            ...       ...   \n",
       "160          모노커피    ku****   \n",
       "161          모노커피    ku****   \n",
       "162          모노커피    미니3695   \n",
       "163          모노커피       위티브   \n",
       "164          모노커피     타타타45   \n",
       "\n",
       "                                                review  \\\n",
       "0    커피도 맛있고 요거트볼도 맛있고 샌드위치도 맛있었어요! 평일 낮에 사람 별로 없을 ...   \n",
       "1    그릭요거트 생과일볼과 애플시나몬 요거트볼 둘 다 달지 않고 담백하고 깔끔하니 맛있어...   \n",
       "2    샐러드를 먹는 방식이 특이하네용~ 샐러드의 이케아 효과?ㅎㅎ 창 밖에 나무 보여서 ...   \n",
       "3    아몬드라떼 첨 마셔보는데 꼬숩고 맛있네요!\\n주문시에 머그/일회용 등 선택할 수 있...   \n",
       "4    지나가다가 들렸는데 진짜 분위기 맛집ㅠㅠ 곳곳마다 깨알소품들이랑 노래며 인테리어까지...   \n",
       "..                                                 ...   \n",
       "160                                          커피 맛있어요~~   \n",
       "161                                          커피 넘 맛있어여   \n",
       "162                                                좋아요   \n",
       "163                                             감사합니다    \n",
       "164                                             감사합니다    \n",
       "\n",
       "                                                   url  \n",
       "0    https://pcmap.place.naver.com/restaurant/19515...  \n",
       "1    https://pcmap.place.naver.com/restaurant/19515...  \n",
       "2    https://pcmap.place.naver.com/restaurant/19515...  \n",
       "3    https://pcmap.place.naver.com/restaurant/19515...  \n",
       "4    https://pcmap.place.naver.com/restaurant/19515...  \n",
       "..                                                 ...  \n",
       "160  https://pcmap.place.naver.com/restaurant/12816...  \n",
       "161  https://pcmap.place.naver.com/restaurant/12816...  \n",
       "162  https://pcmap.place.naver.com/restaurant/12816...  \n",
       "163  https://pcmap.place.naver.com/restaurant/12816...  \n",
       "164  https://pcmap.place.naver.com/restaurant/12816...  \n",
       "\n",
       "[165 rows x 4 columns]"
      ]
     },
     "execution_count": 22,
     "metadata": {},
     "output_type": "execute_result"
    }
   ],
   "source": [
    "df"
   ]
  },
  {
   "cell_type": "code",
   "execution_count": 23,
   "id": "57ffdbad",
   "metadata": {},
   "outputs": [],
   "source": [
    "df.to_csv(\"naver_place_final.csv\", encoding = 'utf-8-sig')"
   ]
  },
  {
   "cell_type": "code",
   "execution_count": null,
   "id": "eb3012dc",
   "metadata": {},
   "outputs": [],
   "source": [
    "#user 이름과 review 내용이 같다면 삭제\n",
    "#df.drop_duplicates(subset=None, keep='first', inplace=True, ignore_index = True)\n",
    "#df"
   ]
  }
 ],
 "metadata": {
  "kernelspec": {
   "display_name": "Python 3",
   "language": "python",
   "name": "python3"
  },
  "language_info": {
   "codemirror_mode": {
    "name": "ipython",
    "version": 3
   },
   "file_extension": ".py",
   "mimetype": "text/x-python",
   "name": "python",
   "nbconvert_exporter": "python",
   "pygments_lexer": "ipython3",
   "version": "3.8.8"
  },
  "toc": {
   "base_numbering": 1,
   "nav_menu": {},
   "number_sections": true,
   "sideBar": true,
   "skip_h1_title": false,
   "title_cell": "Table of Contents",
   "title_sidebar": "Contents",
   "toc_cell": false,
   "toc_position": {},
   "toc_section_display": true,
   "toc_window_display": false
  }
 },
 "nbformat": 4,
 "nbformat_minor": 5
}
