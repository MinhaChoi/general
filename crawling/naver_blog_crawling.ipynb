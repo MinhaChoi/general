{
 "cells": [
  {
   "cell_type": "markdown",
   "metadata": {
    "id": "hTcFktl_GCCr"
   },
   "source": [
    "## 네이버 View 검색을 활용한 네이버 블로그 크롤링"
   ]
  },
  {
   "cell_type": "code",
   "execution_count": 1,
   "metadata": {
    "id": "rZkYahlDGCDE"
   },
   "outputs": [],
   "source": [
    "from selenium import webdriver\n",
    "import time\n",
    "from bs4 import BeautifulSoup as bs\n",
    "import csv \n",
    "import requests\n",
    "import pandas as pd\n",
    "import re\n",
    "from selenium.webdriver.common.desired_capabilities import DesiredCapabilities\n",
    "from selenium.common.exceptions import UnexpectedAlertPresentException\n",
    "import urllib.request\n",
    "import random\n",
    "import warnings \n",
    "warnings.filterwarnings(action='ignore') "
   ]
  },
  {
   "cell_type": "markdown",
   "metadata": {
    "id": "FvVSdww6GCDG"
   },
   "source": [
    "#### naver view 기본 구조\n",
    "\n",
    "- 스크롤 1번에 30개 url 로드\n",
    "\n",
    "- 스크롤 3번 내리면 블로그 주소 총 120개 생성\n",
    "\n",
    "- VIEW 페이지 블로그 url html 클래스 : api_txt_lines total_tit\n",
    "  \n",
    "#### 최대 수집 가능한 url 개수\n",
    "\n",
    "- 1000개\n",
    "\n",
    "    확인 결과 네이버 VIEW에서는 최대 1000개의 블로그 url이 로드됩니다.\n",
    "    그 이상 스크롤을 내려도 (즉,1000개를 초과해서도) 로딩이 됩니다면 마지막 30개 url이 반복해서 등장할 뿐입니다.\n",
    "    \n",
    "    따라서 하단에 원하는 블로그 개수 input을 1020으로 입력하시면 해당 keyword에 대한 max값을 입력했다고 볼 수 있겠습니다. (그 이상으로 해봤자 동일한 url이 반복돼서 append될 뿐입니다)\n",
    "    \n",
    "    더 많은 텍스트 데이터 수집을 위한 대안으로 keyword(검색어)를 달리해서 원하시는 토픽에 대한 블로그 url을 수집하시길 바랍니다.\n",
    "    또한 그 과정에 중복되는 url이 있을수도 있으니 url을 담은 리스트를 set type으로 전환해서 중복된 값을 제거한 후 크롤링을 진행하시면 동일한 블로그를 두번 수집하는 경우를 방지할 수 있습니다."
   ]
  },
  {
   "cell_type": "code",
   "execution_count": 2,
   "metadata": {},
   "outputs": [
    {
     "data": {
      "text/plain": [
       "DatetimeIndex(['2022-01-01', '2022-02-01', '2022-03-01'], dtype='datetime64[ns]', freq='MS')"
      ]
     },
     "execution_count": 2,
     "metadata": {},
     "output_type": "execute_result"
    }
   ],
   "source": [
    "#수집하고 싶은 기간\n",
    "first_days = pd.date_range('2022/01/01', '2022/03/31', freq='MS') #MS는 해당 월 초 날짜 산출\n",
    "last_days = pd.date_range('2022/01/01', '2022/03/31', freq='M') #M은 해당 월 말 날짜 산출\n",
    "first_days"
   ]
  },
  {
   "cell_type": "code",
   "execution_count": 3,
   "metadata": {
    "id": "XDhm5rNnGCDK",
    "outputId": "726e5a7d-d913-454c-85e1-abf86458ea4d"
   },
   "outputs": [
    {
     "name": "stdout",
     "output_type": "stream",
     "text": [
      "키워드를 입력해주세요 :차박일기\n",
      "30단위로 원하는 블로그 개수 입력 :60\n"
     ]
    }
   ],
   "source": [
    "#첫번째 input으로 검색 키워드를 설정합니다 (e.g., \"자동차\")\n",
    "keyword = input('키워드를 입력해주세요 :')\n",
    "\n",
    "#url을 설정합니다\n",
    "url = 'https://search.naver.com/search.naver?sm=tab_hty.top&where=blog&query={}&oquery={}'.format(keyword, keyword)\n",
    "\n",
    "#크롬 드라이버 선언\n",
    "driver = webdriver.Chrome(\"chromedriver.exe\") #현재 컴퓨터의 크롬드라이버 위치 지정\n",
    "driver.implicitly_wait(1)\n",
    "\n",
    "#네이버 VIEW 블로그 검색창 이동\n",
    "driver.get(url)\n",
    "time.sleep(1)\n",
    "\n",
    "#원하는 블로그 개수를 30 단위로 입력 (스크롤 당 30개의 블로그가 업로드 됩니다)\n",
    "url_want = input('30단위로 원하는 블로그 개수 입력 :')\n",
    "url_want = int(url_want)\n",
    "\n",
    "#30의 배수로 숫자를 입력하지 않은 경우 재입력을 받는 코드입니다\n",
    "while url_want%30 !=0: \n",
    "    url_want = int(input('30단위로 원하는 블로그 개수 입력 :'))\n",
    "    if url_want%30 ==0:\n",
    "         break"
   ]
  },
  {
   "cell_type": "code",
   "execution_count": 4,
   "metadata": {},
   "outputs": [
    {
     "name": "stdout",
     "output_type": "stream",
     "text": [
      "2022년1월 60  개 블로그 url주소 수집\n",
      "2022년2월 60  개 블로그 url주소 수집\n",
      "2022년3월 60  개 블로그 url주소 수집\n"
     ]
    }
   ],
   "source": [
    "blog_url_list=[]\n",
    "\n",
    "# 검색 옵션 클릭하기\n",
    "driver.find_element_by_xpath('//*[@id=\"snb\"]/div[1]/div/div[2]/a').click()\n",
    "for k in range(len(first_days)):\n",
    "    # 직접입력 클릭하기\n",
    "    driver.find_element_by_xpath('//*[@id=\"snb\"]/div[2]/ul/li[3]/div/div[1]/a[9]/i').click()\n",
    "    time.sleep(0.8)    \n",
    "\n",
    "    #시작 날짜 지정#년(year) 클릭 \n",
    "    driver.find_element_by_xpath('//*[@id=\"snb\"]/div[2]/ul/li[3]/div/div[2]/div[2]/div[1]/div/div/div/ul/li[{0}]'.format(first_days.year[k]-2002)).click()\n",
    "    #월(momth) 클릭\n",
    "    driver.find_element_by_xpath('//*[@id=\"snb\"]/div[2]/ul/li[3]/div/div[2]/div[2]/div[2]/div/div/div/ul/li[{0}]/a'.format(first_days.month[k])).click()\n",
    "    #일 (day) 클릭\n",
    "    driver.find_element_by_xpath('//*[@id=\"snb\"]/div[2]/ul/li[3]/div/div[2]/div[2]/div[3]/div/div/div/ul/li[{0}]/a'.format(first_days.day[k])).click()\n",
    "\n",
    "    #끝 날짜 클릭\n",
    "    driver.find_element_by_xpath('//*[@id=\"snb\"]/div[2]/ul/li[3]/div/div[2]/div[1]/span[3]/a').click()\n",
    "    #년(year) 클릭 \n",
    "    driver.find_element_by_xpath('//*[@id=\"snb\"]/div[2]/ul/li[3]/div/div[2]/div[2]/div[1]/div/div/div/ul/li[{0}]'.format(last_days.year[k]-2002)).click()\n",
    "    #월(momth) 클릭\n",
    "    driver.find_element_by_xpath('//*[@id=\"snb\"]/div[2]/ul/li[3]/div/div[2]/div[2]/div[2]/div/div/div/ul/li[{0}]/a'.format(last_days.month[k])).click()\n",
    "    #일 (day) 클릭\n",
    "    driver.find_element_by_xpath('//*[@id=\"snb\"]/div[2]/ul/li[3]/div/div[2]/div[2]/div[3]/div/div/div/ul/li[{0}]/a'.format(last_days.day[k])).click()\n",
    "    \n",
    "    #적용 버튼 클릭하기\n",
    "    driver.find_element_by_xpath('//*[@id=\"snb\"]/div[2]/ul/li[3]/div/div[2]/div[3]/button').click()\n",
    "    # 스크롤 위치 인식\n",
    "    last_height = driver.execute_script(\"return document.body.scrollHeight\") \n",
    "\n",
    "    #스크롤 횟수 (1회 스크롤당 게시물 30개 보입니다)\n",
    "    scroll = (url_want/30)-1 \n",
    "        \n",
    "    # 지정한 만큼 스크롤 다운\n",
    "    for i in range(int(scroll)):                                                                  \n",
    "        driver.execute_script(\"window.scrollTo(0, document.body.scrollHeight);\") #스크롤을 가능한 아래까지 내립니다.\n",
    "        time.sleep(random.uniform(1,1.7))\n",
    "     \n",
    "        new_height = driver.execute_script(\"return document.body.scrollHeight\")  #스크롤을 가능한 아래까지 내렸을 때, 갱신되어 스크롤의 위치와 크기가 바뀌면, 다시 그 스크롤을 최대한 아래까지 내립니다.\n",
    "        if new_height == last_height:   \n",
    "            break\n",
    "                                                                             \n",
    "        last_height = new_height               \n",
    "                                                                             \n",
    "    # 블로그 url 긁어오기\n",
    "    soup = bs(driver.page_source, 'lxml') \n",
    "    blog_url = soup.find_all('a',class_='api_txt_lines total_tit')\n",
    "        \n",
    "    # url 추출, 리스트에 정리\n",
    "    for i in blog_url:\n",
    "        blog_url_list.append(i['href'])\n",
    "            \n",
    "    print('{0}년{1}월'.format(first_days.year[k], first_days.month[k]), len(blog_url),' 개 블로그 url주소 수집')\n",
    "        \n",
    "    #스크롤 맨위로    \n",
    "    driver.execute_script(\"window.scrollTo(0, 0)\")\n",
    "    time.sleep(0.8)"
   ]
  },
  {
   "cell_type": "markdown",
   "metadata": {
    "id": "FBbQm7ncGCDR"
   },
   "source": [
    "#### 요청한만큼 스크롤이 내려간 VIEW 페이지에서 url을 수집\n",
    "\n",
    "수집 후 blog_url_list를 set type으로 전환해 혹시 중복된 url이 있는지 확인하시면 좋을 것 같습니다."
   ]
  },
  {
   "cell_type": "code",
   "execution_count": 5,
   "metadata": {
    "id": "6TkcDpxnGCDS",
    "outputId": "411657d4-e7bb-4227-9da5-c8dc8c1de967",
    "scrolled": false
   },
   "outputs": [
    {
     "data": {
      "text/plain": [
       "180"
      ]
     },
     "execution_count": 5,
     "metadata": {},
     "output_type": "execute_result"
    }
   ],
   "source": [
    "len(blog_url_list)"
   ]
  },
  {
   "cell_type": "code",
   "execution_count": 6,
   "metadata": {
    "id": "Ck49SCm5GCDT",
    "outputId": "d443b9ab-26b3-4ef8-de22-78a878c43cd4"
   },
   "outputs": [
    {
     "data": {
      "text/plain": [
       "180"
      ]
     },
     "execution_count": 6,
     "metadata": {},
     "output_type": "execute_result"
    }
   ],
   "source": [
    "real_list = set(blog_url_list)\n",
    "blog_url_list = list(real_list)\n",
    "len(blog_url_list)"
   ]
  },
  {
   "cell_type": "code",
   "execution_count": 7,
   "metadata": {},
   "outputs": [],
   "source": [
    "k = pd.DataFrame(blog_url_list)\n",
    "k.to_csv('blog_url_list.csv')"
   ]
  },
  {
   "cell_type": "markdown",
   "metadata": {
    "id": "OzKaf9LsGCDU"
   },
   "source": [
    "#### 수집한 블로그 url로 이동하여 본문 크롤링\n",
    "\n",
    "- 프레임 전환 driver.switch_to.frame('mainFrame') \n"
   ]
  },
  {
   "cell_type": "code",
   "execution_count": 8,
   "metadata": {
    "scrolled": true
   },
   "outputs": [
    {
     "data": {
      "text/plain": [
       "['https://blog.naver.com/star4621?Redirect=Log&logNo=222677246975',\n",
       " 'https://blog.daum.net/boodjja71/1484',\n",
       " 'https://blog.naver.com/for_sbe?Redirect=Log&logNo=222610182909',\n",
       " 'https://blog.daum.net/boodjja71/1487',\n",
       " 'https://blog.naver.com/realty0179?Redirect=Log&logNo=222612789513']"
      ]
     },
     "execution_count": 8,
     "metadata": {},
     "output_type": "execute_result"
    }
   ],
   "source": [
    "url = pd.read_csv('blog_url_list.csv')\n",
    "blog_url_list = list(url['0'])\n",
    "blog_url_list[:5]"
   ]
  },
  {
   "cell_type": "code",
   "execution_count": 9,
   "metadata": {
    "id": "bPsFoiG7GCDX",
    "outputId": "27dfaa03-c832-4bc7-d7a2-06a9ac9009bc",
    "scrolled": true
   },
   "outputs": [
    {
     "name": "stdout",
     "output_type": "stream",
     "text": [
      "네이버 블로그 아닌 url:  https://blog.daum.net/boodjja71/1484\n",
      "네이버 블로그 아닌 url:  https://blog.daum.net/boodjja71/1487\n",
      "10개 블로그 크롤링 완료\n"
     ]
    }
   ],
   "source": [
    "no_naver_blog1=[] #url 수집중 naver 블로그가 아닌 경우 제외시키기 위한 리스트\n",
    "\n",
    "start = time.time() # 시작 시간 체크\n",
    "\n",
    "#본문, 댓글, 날짜, url 빈 list 생성\n",
    "review_list = []\n",
    "comment_list = []\n",
    "like_list = []\n",
    "time_list = []\n",
    "url_list = []\n",
    "count = 0\n",
    "\n",
    "driver = webdriver.Chrome(\"chromedriver.exe\")\n",
    "\n",
    "for url in blog_url_list[:20]: #20개로 지정해놓음**\n",
    "    #driver = webdriver.Chrome(\"chromedriver.exe\")\n",
    "    if 'naver' in url: #url에 naver가 들어있는 경우에만 진행\n",
    "        count += 1\n",
    "        driver.get(url)\n",
    "        time.sleep(1.1)\n",
    "\n",
    "        #프레임 전환\n",
    "        try: \n",
    "            driver.switch_to.frame('mainFrame') \n",
    "            time.sleep(1)\n",
    "        \n",
    "            # 블로그의 내용 크롤링\n",
    "            soup = bs(driver.page_source, 'lxml') \n",
    "            postview = soup.find('div', attrs={'id': re.compile('post-view.+')}).get_text()\n",
    "\n",
    "            reg = re.compile(r'[\\s+]')\n",
    "            postview_reg = reg.sub(' ',postview)\n",
    "            \n",
    "            #공감 수 \n",
    "            try: \n",
    "                like = driver.find_element_by_xpath(\"//span[@class='u_likeit_list_btn _button btn_sympathy pcol2 off']/em[@class='u_cnt _count']\")\n",
    "                like = like.text\n",
    "            except:\n",
    "                like = []\n",
    "            \n",
    "            #작성 시간\n",
    "            try: \n",
    "                timeline = driver.find_element_by_xpath(\"//span[@class='se_publishDate pcol2']\")\n",
    "            except:\n",
    "                timeline = driver.find_element_by_xpath(\"//p[@class='date fil5 pcol2 _postAddDate']\")\n",
    "            timeline = timeline.text\n",
    "\n",
    "            #댓글\n",
    "            try:\n",
    "                # 댓글 버튼 클릭\n",
    "                driver.find_element_by_css_selector('span.btn_arr').click()\n",
    "                time.sleep(2)\n",
    "\n",
    "                #댓글 수집 (대댓글도 같이 수집) (비밀댓글은 수집 안됩니다)\n",
    "                comment_blog = []\n",
    "                comment = driver.find_elements_by_css_selector('span.u_cbox_contents')\n",
    "                for i in comment:\n",
    "                    com = str(i.text)\n",
    "                    com = reg.sub(' ',com)\n",
    "                    comment_blog.append(([com]))\n",
    "            except: \n",
    "                # 댓글 버튼이 없는 블로그의 경우 패스\n",
    "                comment_blog = []\n",
    "             \n",
    "            \n",
    "            #수집 내용을 빈리스트에 append\n",
    "            review_list.append(postview_reg)\n",
    "            like_list.append(like)\n",
    "            time_list.append(timeline)\n",
    "            comment_list.append(comment_blog)\n",
    "            url_list.append(url)\n",
    "            time.sleep(random.uniform(1,1.7)) #1초에서 1.7초 사이 랜덤으로 쉬어가기\n",
    "            \n",
    "        except UnexpectedAlertPresentException:\n",
    "            pass\n",
    "        \n",
    "    else: #naver블로그가 아닌 경우\n",
    "        no_naver_blog1.append(url)\n",
    "        print('네이버 블로그 아닌 url: ',url)\n",
    "    \n",
    "    if count%10 ==0: #진행상황 출력\n",
    "        print('{}개 블로그 크롤링 완료'.format(count))"
   ]
  },
  {
   "cell_type": "code",
   "execution_count": 11,
   "metadata": {},
   "outputs": [
    {
     "name": "stdout",
     "output_type": "stream",
     "text": [
      "걸린 시간:  201.60512614250183\n",
      "최종 18개 블로그 크롤링 완료\n"
     ]
    },
    {
     "data": {
      "text/html": [
       "<div>\n",
       "<style scoped>\n",
       "    .dataframe tbody tr th:only-of-type {\n",
       "        vertical-align: middle;\n",
       "    }\n",
       "\n",
       "    .dataframe tbody tr th {\n",
       "        vertical-align: top;\n",
       "    }\n",
       "\n",
       "    .dataframe thead th {\n",
       "        text-align: right;\n",
       "    }\n",
       "</style>\n",
       "<table border=\"1\" class=\"dataframe\">\n",
       "  <thead>\n",
       "    <tr style=\"text-align: right;\">\n",
       "      <th></th>\n",
       "      <th>review</th>\n",
       "      <th>comment</th>\n",
       "      <th>like</th>\n",
       "      <th>time</th>\n",
       "      <th>url</th>\n",
       "    </tr>\n",
       "  </thead>\n",
       "  <tbody>\n",
       "    <tr>\n",
       "      <th>0</th>\n",
       "      <td>용가리 노지캠핑     전남 여수 1박 2일 섬 여행은 낭만적인...</td>\n",
       "      <td>[]</td>\n",
       "      <td>17</td>\n",
       "      <td>2022. 3. 19. 17:17</td>\n",
       "      <td>https://blog.naver.com/star4621?Redirect=Log&amp;l...</td>\n",
       "    </tr>\n",
       "    <tr>\n",
       "      <th>1</th>\n",
       "      <td>한량이의 일상     [일상] 한량일기, 연말이야기, 안녕 2021년...</td>\n",
       "      <td>[]</td>\n",
       "      <td>7</td>\n",
       "      <td>2022. 1. 1. 13:23</td>\n",
       "      <td>https://blog.naver.com/for_sbe?Redirect=Log&amp;lo...</td>\n",
       "    </tr>\n",
       "    <tr>\n",
       "      <th>2</th>\n",
       "      <td>여행     차박(차크닉)하기 좋은 부산의 인생샷 맛집       꿈...</td>\n",
       "      <td>[[여행이간절해요증말]]</td>\n",
       "      <td>12</td>\n",
       "      <td>2022. 1. 4. 22:00</td>\n",
       "      <td>https://blog.naver.com/realty0179?Redirect=Log...</td>\n",
       "    </tr>\n",
       "    <tr>\n",
       "      <th>3</th>\n",
       "      <td>미라클모닝/감사/건강     [감사일기] 울진에서 일출 (220220...</td>\n",
       "      <td>[[잠자리는 불편하셨지만 가족들과 소중한 추억 남기셨네요~ 너무 편안한 여행보다는 ...</td>\n",
       "      <td>7</td>\n",
       "      <td>2022. 2. 21. 0:15</td>\n",
       "      <td>https://blog.naver.com/jtj_luv?Redirect=Log&amp;lo...</td>\n",
       "    </tr>\n",
       "    <tr>\n",
       "      <th>4</th>\n",
       "      <td>일상      행복한 1월 일기        엘리   ・  2022....</td>\n",
       "      <td>[]</td>\n",
       "      <td>18</td>\n",
       "      <td>2022. 1. 27. 14:32</td>\n",
       "      <td>https://blog.naver.com/aily1336?Redirect=Log&amp;l...</td>\n",
       "    </tr>\n",
       "    <tr>\n",
       "      <th>5</th>\n",
       "      <td>일상     1월이 가기 전에 쓰는 1월 일기       미동프   ...</td>\n",
       "      <td>[[맛난거 많이 드셨네용! 이삐커피 저번 포스팅 때도 봤는데 가성비 정말 좋은 것 ...</td>\n",
       "      <td>15</td>\n",
       "      <td>2022. 1. 31. 19:25</td>\n",
       "      <td>https://blog.naver.com/alwjd4199?Redirect=Log&amp;...</td>\n",
       "    </tr>\n",
       "    <tr>\n",
       "      <th>6</th>\n",
       "      <td>[안전캠페인] 차박캠핑 이것만 알고 가세요!올 겨울! 캠핑이 다시 유행하고 있는 ...</td>\n",
       "      <td>[[춥지만 차박하러 가고 싶네요.], [차박 캠핑시 꿀팁 감사드립니다!]]</td>\n",
       "      <td>27</td>\n",
       "      <td>2022. 1. 16. 20:25</td>\n",
       "      <td>https://blog.naver.com/number1_max?Redirect=Lo...</td>\n",
       "    </tr>\n",
       "    <tr>\n",
       "      <th>7</th>\n",
       "      <td>여행일기     포항 여행추천코스/ 차박하기 좋은 도구해수욕장/ 환호...</td>\n",
       "      <td>[[날풀리면 또 놀자 ㅠㅠ 햄벅해〰️〰️🖤]]</td>\n",
       "      <td>8</td>\n",
       "      <td>2022. 2. 5. 16:11</td>\n",
       "      <td>https://blog.naver.com/zzangaaa1213?Redirect=L...</td>\n",
       "    </tr>\n",
       "    <tr>\n",
       "      <th>8</th>\n",
       "      <td>일상     ~2월 10일 일기😏       쮜인   ・  2022....</td>\n",
       "      <td>[]</td>\n",
       "      <td>7</td>\n",
       "      <td>2022. 2. 11. 0:13</td>\n",
       "      <td>https://blog.naver.com/djwls338?Redirect=Log&amp;l...</td>\n",
       "    </tr>\n",
       "    <tr>\n",
       "      <th>9</th>\n",
       "      <td>캠핑, 여행     악천후 속 옥천 심천면 차박, 노지 캠핑 성...</td>\n",
       "      <td>[[날씨가 험난했는데도 그래도 마무리는 좋았네요 ㅎㅎ], [감사합니다 즐거운 하루 ...</td>\n",
       "      <td>[]</td>\n",
       "      <td>2022. 3. 2. 8:48</td>\n",
       "      <td>https://blog.naver.com/kjc8021?Redirect=Log&amp;lo...</td>\n",
       "    </tr>\n",
       "    <tr>\n",
       "      <th>10</th>\n",
       "      <td>캠핑 일기✏️     캠핑일기6. 친구들과 함께 캠핑을 - 송도스포츠...</td>\n",
       "      <td>[[아 귀엽다~~~], [그대와 함께 춤을], [조개구이 동영상 넘 길어서 놀랬네]]</td>\n",
       "      <td>7</td>\n",
       "      <td>2022. 3. 28. 18:06</td>\n",
       "      <td>https://blog.naver.com/hajihyun01?Redirect=Log...</td>\n",
       "    </tr>\n",
       "    <tr>\n",
       "      <th>11</th>\n",
       "      <td>2022 장박일기     &lt;몽이랑캠핑&gt;장박일기#11 야외세팅     ...</td>\n",
       "      <td>[[ㅎㅎㅎㅎ감사합니당~~이제 열심히 전국 돌아다녀야죵~~~], [ㅎㅎ이제 날이 슬슬...</td>\n",
       "      <td>[]</td>\n",
       "      <td>2022. 3. 1. 8:30</td>\n",
       "      <td>https://blog.naver.com/minji994?Redirect=Log&amp;l...</td>\n",
       "    </tr>\n",
       "    <tr>\n",
       "      <th>12</th>\n",
       "      <td>게시판     섬까지 아름다운 여수 투어하기!! 여수 차박하기 좋은 ...</td>\n",
       "      <td>[[안녕하세요~ 블로그 들렀다 갑니다~ 저는 물 새는걸 잡는 사람이에요 누수탐지라고...</td>\n",
       "      <td>[]</td>\n",
       "      <td>2022. 2. 3. 13:42</td>\n",
       "      <td>https://blog.naver.com/jpkhoon?Redirect=Log&amp;lo...</td>\n",
       "    </tr>\n",
       "    <tr>\n",
       "      <th>13</th>\n",
       "      <td>대구/경북     포항 죽천해수욕장_네이버 지도가 숨겨둔 차박명...</td>\n",
       "      <td>[[차박 분위기 좋네요~ 죽천해수욕장 가봐야겠어여], [여기 해수욕장 진짜 취향저격...</td>\n",
       "      <td>10</td>\n",
       "      <td>2022. 1. 7. 14:23</td>\n",
       "      <td>https://blog.naver.com/0808bi?Redirect=Log&amp;log...</td>\n",
       "    </tr>\n",
       "    <tr>\n",
       "      <th>14</th>\n",
       "      <td>일기 episode     일기episode 265 - 22.02.1...</td>\n",
       "      <td>[[저도 파워에이드를 사둬야 할 것 같은... 편안한 밤 되세요!!!], [파워에이...</td>\n",
       "      <td>19</td>\n",
       "      <td>2022. 2. 10. 21:57</td>\n",
       "      <td>https://blog.naver.com/snowly03?Redirect=Log&amp;l...</td>\n",
       "    </tr>\n",
       "    <tr>\n",
       "      <th>15</th>\n",
       "      <td>캠핑     캠핑카신혼여행 #8. 캠핑카로 거제여행[거제 구조라해수욕...</td>\n",
       "      <td>[[🚨폐쇄된 전국 166개 차크닉장소, 차박장소 목록 (신규 업데이트 날짜 - 22...</td>\n",
       "      <td>16</td>\n",
       "      <td>2022. 1. 20. 19:23</td>\n",
       "      <td>https://blog.naver.com/kimsaeronl?Redirect=Log...</td>\n",
       "    </tr>\n",
       "    <tr>\n",
       "      <th>16</th>\n",
       "      <td>하킴부부_여행     [하킴부부] 두달만에 다녀온 캠핑 / 안동노지캠...</td>\n",
       "      <td>[]</td>\n",
       "      <td>7</td>\n",
       "      <td>2022. 1. 31. 3:26</td>\n",
       "      <td>https://blog.naver.com/minjung147?Redirect=Log...</td>\n",
       "    </tr>\n",
       "    <tr>\n",
       "      <th>17</th>\n",
       "      <td>낙서장     (13박 14일)차박이야기 : (2월 10일) 진...</td>\n",
       "      <td>[[아 가슴아픈 팽목항 세상을 팽이처럼 어지럽게 돌게한 그 현장], []]</td>\n",
       "      <td>8</td>\n",
       "      <td>2022. 3. 2. 20:48</td>\n",
       "      <td>https://blog.naver.com/mangchoja?Redirect=Log&amp;...</td>\n",
       "    </tr>\n",
       "  </tbody>\n",
       "</table>\n",
       "</div>"
      ],
      "text/plain": [
       "                                               review  \\\n",
       "0              용가리 노지캠핑     전남 여수 1박 2일 섬 여행은 낭만적인...   \n",
       "1           한량이의 일상     [일상] 한량일기, 연말이야기, 안녕 2021년...   \n",
       "2           여행     차박(차크닉)하기 좋은 부산의 인생샷 맛집       꿈...   \n",
       "3           미라클모닝/감사/건강     [감사일기] 울진에서 일출 (220220...   \n",
       "4           일상      행복한 1월 일기        엘리   ・  2022....   \n",
       "5           일상     1월이 가기 전에 쓰는 1월 일기       미동프   ...   \n",
       "6    [안전캠페인] 차박캠핑 이것만 알고 가세요!올 겨울! 캠핑이 다시 유행하고 있는 ...   \n",
       "7           여행일기     포항 여행추천코스/ 차박하기 좋은 도구해수욕장/ 환호...   \n",
       "8           일상     ~2월 10일 일기😏       쮜인   ・  2022....   \n",
       "9              캠핑, 여행     악천후 속 옥천 심천면 차박, 노지 캠핑 성...   \n",
       "10          캠핑 일기✏️     캠핑일기6. 친구들과 함께 캠핑을 - 송도스포츠...   \n",
       "11          2022 장박일기     <몽이랑캠핑>장박일기#11 야외세팅     ...   \n",
       "12          게시판     섬까지 아름다운 여수 투어하기!! 여수 차박하기 좋은 ...   \n",
       "13             대구/경북     포항 죽천해수욕장_네이버 지도가 숨겨둔 차박명...   \n",
       "14          일기 episode     일기episode 265 - 22.02.1...   \n",
       "15          캠핑     캠핑카신혼여행 #8. 캠핑카로 거제여행[거제 구조라해수욕...   \n",
       "16          하킴부부_여행     [하킴부부] 두달만에 다녀온 캠핑 / 안동노지캠...   \n",
       "17             낙서장     (13박 14일)차박이야기 : (2월 10일) 진...   \n",
       "\n",
       "                                              comment like  \\\n",
       "0                                                  []   17   \n",
       "1                                                  []    7   \n",
       "2                                       [[여행이간절해요증말]]   12   \n",
       "3   [[잠자리는 불편하셨지만 가족들과 소중한 추억 남기셨네요~ 너무 편안한 여행보다는 ...    7   \n",
       "4                                                  []   18   \n",
       "5   [[맛난거 많이 드셨네용! 이삐커피 저번 포스팅 때도 봤는데 가성비 정말 좋은 것 ...   15   \n",
       "6           [[춥지만 차박하러 가고 싶네요.], [차박 캠핑시 꿀팁 감사드립니다!]]   27   \n",
       "7                           [[날풀리면 또 놀자 ㅠㅠ 햄벅해〰️〰️🖤]]    8   \n",
       "8                                                  []    7   \n",
       "9   [[날씨가 험난했는데도 그래도 마무리는 좋았네요 ㅎㅎ], [감사합니다 즐거운 하루 ...   []   \n",
       "10    [[아 귀엽다~~~], [그대와 함께 춤을], [조개구이 동영상 넘 길어서 놀랬네]]    7   \n",
       "11  [[ㅎㅎㅎㅎ감사합니당~~이제 열심히 전국 돌아다녀야죵~~~], [ㅎㅎ이제 날이 슬슬...   []   \n",
       "12  [[안녕하세요~ 블로그 들렀다 갑니다~ 저는 물 새는걸 잡는 사람이에요 누수탐지라고...   []   \n",
       "13  [[차박 분위기 좋네요~ 죽천해수욕장 가봐야겠어여], [여기 해수욕장 진짜 취향저격...   10   \n",
       "14  [[저도 파워에이드를 사둬야 할 것 같은... 편안한 밤 되세요!!!], [파워에이...   19   \n",
       "15  [[🚨폐쇄된 전국 166개 차크닉장소, 차박장소 목록 (신규 업데이트 날짜 - 22...   16   \n",
       "16                                                 []    7   \n",
       "17          [[아 가슴아픈 팽목항 세상을 팽이처럼 어지럽게 돌게한 그 현장], []]    8   \n",
       "\n",
       "                  time                                                url  \n",
       "0   2022. 3. 19. 17:17  https://blog.naver.com/star4621?Redirect=Log&l...  \n",
       "1    2022. 1. 1. 13:23  https://blog.naver.com/for_sbe?Redirect=Log&lo...  \n",
       "2    2022. 1. 4. 22:00  https://blog.naver.com/realty0179?Redirect=Log...  \n",
       "3    2022. 2. 21. 0:15  https://blog.naver.com/jtj_luv?Redirect=Log&lo...  \n",
       "4   2022. 1. 27. 14:32  https://blog.naver.com/aily1336?Redirect=Log&l...  \n",
       "5   2022. 1. 31. 19:25  https://blog.naver.com/alwjd4199?Redirect=Log&...  \n",
       "6   2022. 1. 16. 20:25  https://blog.naver.com/number1_max?Redirect=Lo...  \n",
       "7    2022. 2. 5. 16:11  https://blog.naver.com/zzangaaa1213?Redirect=L...  \n",
       "8    2022. 2. 11. 0:13  https://blog.naver.com/djwls338?Redirect=Log&l...  \n",
       "9     2022. 3. 2. 8:48  https://blog.naver.com/kjc8021?Redirect=Log&lo...  \n",
       "10  2022. 3. 28. 18:06  https://blog.naver.com/hajihyun01?Redirect=Log...  \n",
       "11    2022. 3. 1. 8:30  https://blog.naver.com/minji994?Redirect=Log&l...  \n",
       "12   2022. 2. 3. 13:42  https://blog.naver.com/jpkhoon?Redirect=Log&lo...  \n",
       "13   2022. 1. 7. 14:23  https://blog.naver.com/0808bi?Redirect=Log&log...  \n",
       "14  2022. 2. 10. 21:57  https://blog.naver.com/snowly03?Redirect=Log&l...  \n",
       "15  2022. 1. 20. 19:23  https://blog.naver.com/kimsaeronl?Redirect=Log...  \n",
       "16   2022. 1. 31. 3:26  https://blog.naver.com/minjung147?Redirect=Log...  \n",
       "17   2022. 3. 2. 20:48  https://blog.naver.com/mangchoja?Redirect=Log&...  "
      ]
     },
     "execution_count": 11,
     "metadata": {},
     "output_type": "execute_result"
    }
   ],
   "source": [
    "# 수집한 리스트를 DataFrame으로 전환\n",
    "data = {'review' : review_list,\n",
    "        'comment' : comment_list,\n",
    "        'like' : like_list,\n",
    "        'time' : time_list,\n",
    "        'url': url_list}\n",
    "df = pd.DataFrame(data)\n",
    "\n",
    "# 총 걸린시간 출력\n",
    "print('걸린 시간: ', time.time()-start)\n",
    "print('최종 {}개 블로그 크롤링 완료'.format(count))\n",
    "df"
   ]
  },
  {
   "cell_type": "code",
   "execution_count": 12,
   "metadata": {},
   "outputs": [],
   "source": [
    "#csv 저장\n",
    "df.to_csv(\"blog_view_data.csv\", encoding = \"utf-8-sig\")"
   ]
  }
 ],
 "metadata": {
  "colab": {
   "name": "크롤러_네이버 블로그.ipynb",
   "provenance": []
  },
  "hide_input": false,
  "kernelspec": {
   "display_name": "Python 3",
   "language": "python",
   "name": "python3"
  },
  "language_info": {
   "codemirror_mode": {
    "name": "ipython",
    "version": 3
   },
   "file_extension": ".py",
   "mimetype": "text/x-python",
   "name": "python",
   "nbconvert_exporter": "python",
   "pygments_lexer": "ipython3",
   "version": "3.8.8"
  },
  "toc": {
   "base_numbering": 1,
   "nav_menu": {},
   "number_sections": true,
   "sideBar": true,
   "skip_h1_title": false,
   "title_cell": "Table of Contents",
   "title_sidebar": "Contents",
   "toc_cell": false,
   "toc_position": {},
   "toc_section_display": true,
   "toc_window_display": false
  },
  "varInspector": {
   "cols": {
    "lenName": 16,
    "lenType": 16,
    "lenVar": 40
   },
   "kernels_config": {
    "python": {
     "delete_cmd_postfix": "",
     "delete_cmd_prefix": "del ",
     "library": "var_list.py",
     "varRefreshCmd": "print(var_dic_list())"
    },
    "r": {
     "delete_cmd_postfix": ") ",
     "delete_cmd_prefix": "rm(",
     "library": "var_list.r",
     "varRefreshCmd": "cat(var_dic_list()) "
    }
   },
   "types_to_exclude": [
    "module",
    "function",
    "builtin_function_or_method",
    "instance",
    "_Feature"
   ],
   "window_display": false
  }
 },
 "nbformat": 4,
 "nbformat_minor": 1
}
