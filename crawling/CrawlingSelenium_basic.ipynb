{
 "cells": [
  {
   "cell_type": "markdown",
   "metadata": {},
   "source": [
    "# Selenium\n",
    "### -> 웹 페이지를 테스팅하기 위한 자동화 테스팅 도구\n",
    "### -> 웹 페이지를 사용자가 사용하는 것처럼 클릭,스크롤,입력 등의\n",
    "###     조작이 가능"
   ]
  },
  {
   "cell_type": "code",
   "execution_count": 1,
   "metadata": {},
   "outputs": [
    {
     "name": "stdout",
     "output_type": "stream",
     "text": [
      "시티허브, 스마트시티 통합플랫폼...사람의 '심장'격\n",
      "대기업 최초 국가 사업에 적용할 수 있는 인증 획득\n",
      "【서울=뉴시스】 LG CNS가 IT 업계 최초로 사물인터넷(IoT) 결합형 스마트시티 통합플랫폼 '시티허브(Cityhub, 가칭)'를 출시했다고 5일 밝혔다. 2018.07.05 (사진 = LG CNS 제공) photo@newsis.com\n",
      "\n",
      "\n",
      "【서울=뉴시스】이종희 기자 = LG CNS가 IT 업계 최초로 사물인터넷(IoT) 결합형 스마트시티 통합플랫폼 '시티허브(Cityhub, 가칭)'를 출시했다고 5일 밝혔다.\n",
      "\n",
      "시티허브는 교통·안전·에너지·환경 등 도시 운영에 필요한 서비스를 한 곳에서 통합 관제하는 스마트시티의 '심장' 역할을 한다.\n",
      "\n",
      "시티허브는 국제 IoT 표준인 oneM2M 뿐만 아니라 물류∙제조∙유통 ·등 산업영역별 98종의 통신 표준을 지원한다. 이러한 연결성을 바탕으로 산업별로 다른 통신을 사용하더라도 별도의 플랫폼 구축없이 하나의 통합된 플랫폼으로 데이터를 수집하고 관리할 수 있다.\n",
      "\n",
      "LG CNS가 독자적으로 개발한 AI빅데이터 플랫폼 ‘디에이피(DAP)’ 등 신기술을 적용해 4차 산업혁명 신기술을 적용하는 고차원적 스마트시티를 구축할 수 있다.\n",
      "\n",
      "다양한 디바이스에서 수집된 정보를 분석해 서비스를 제공하는 것은 기본이고, 서비스 도중 발생하는 정보를 재수집하고 분석해 도시의 정책 결정에 참고하는 데이터로 가공할 수도 있다.\n",
      "\n",
      "시티허브는 도시·에너지·안전·환경 등 영역별로 서비스를 모듈화해 제공한다. 도시의 인구·기후·인프라 상황에 맞는 기능을 빠르고 경제적으로 서비스할 수 있다.\n",
      "\n",
      "◇대기업 최초 스마트시티 통합플랫폼 국가 인증 획득\n",
      "\n",
      "LG CNS는 지난 2일 대기업 최초로 국토부가 추진하고 한국정보통신기술협회(TTA)가 주관하는 스마트시티 통합플랫폼 인증을 획득했다.\n",
      "\n",
      "국토부는 민간 기업의 참여를 활성화시켜 우수 소프트웨어가 국내 스마트시티의 발전에 기여할 수 있도록 올해 5월부터 인증을 시작했다.\n",
      "\n",
      "인증을 획득한 기업은 자체적으로 개발한 플랫폼을 정부 및 지자체의 스마트시티에 구축해 고차원적인 서비스를 제공할 수 있다. 기존에 민간 기업은 정부가 만든 통합플랫폼을 활용해야만 서비스를 제공할 수 있었다.\n",
      "\n",
      "인증을 획득하기 위해서는 우선 도시의 데이터를 수집하고 가공하는 플랫폼의 기본 성능을 충족해야 한다. 또 정부가 국민의 생명과 재산 보호를 위해 구축한 5대 안전망 서비스(112 긴급영상, 112 긴급출동, 119 긴급출동, 긴급재난사항 파악, 사회적 약자 지원)를 플랫폼에 안정적으로 연계가 되는지를 입증해야 한다.\n",
      "\n",
      "LG CNS는 인증을 통해 민관∙공이 협력해 한국의 지형∙문화∙인구 특색에 맞는 '한국형 스마트시티' 모델을 개발하고 나아가 한국이 글로벌 스마트시티 표준 경쟁을 주도하는 기반이 될 것으로 기대하고 있다.\n",
      "\n",
      "◇국가 주요 스마트시티 전략 수립 과정에 참여해 시장 선도\n",
      "\n",
      "현재 도시별로 스마트시티 도입 전략 및 계획 수립이 한창인 가운데, LG CNS는 다수의 사업에 참여하며 스마트시티 시장을 선도하고 있다.\n",
      "\n",
      "지난해 12월에는 국토부의 스마트시티 전략 과제인 세종 5-1생활권국가시범도시 기본구상에도 참여했다. 올해 4월에는 제주 스마트시티 실증단지 특화전략 수립 프로젝트를 수주했고, 5월에는 해남 솔라시도 스마트시티 마스터플랜 사업도 수주했다.\n",
      "\n",
      "한편, LG CNS는 2005년 서울시의 U-서울마스터플랜 수립부터 판교 U-city 구축(2008년), 청라지구 U-city 구축(2010년) 등 다양한 도시 구축 사업에 참여한 경험을 보유하고 있다.\n",
      "\n",
      "LG CNS 관계자는 \"스마트시티 통합플랫폼 출시과 인증을 통해 스마트시티의 기술과 경험, 인증까지 3박자를 갖추게 됐다”며 “민·관·공이 협력해 세계 표준을 선도할 수 있는 '한국형 스마트시티' 구축에 힘쓰겠다\"고 말했다.\n",
      "\n",
      "2papers@newsis.com\n",
      "\n",
      "▶ 뉴시스 빅데이터 MSI 주가시세표 바로가기\n",
      "▶ 뉴시스 SNS [페이스북] [트위터]\n",
      "\n",
      "<저작권자ⓒ 공감언론 뉴시스통신사. 무단전재-재배포 금지.>\n"
     ]
    }
   ],
   "source": [
    "from selenium import webdriver\n",
    "import warnings \n",
    "warnings.filterwarnings(action='ignore') #경고 메세지 안나오게 함\n",
    "\n",
    "# 브라우저 정보 설정\n",
    "options = webdriver.ChromeOptions()\n",
    "# options.add_argument('headless')\n",
    "options.add_argument('window-size=1920x1080')\n",
    "options.add_argument('user-agent=Mozilla/5.0 (Windows NT 6.1) AppleWebKit/537.36 (KHTML, like Gecko) Chrome/67.0.3396.99 Safari/537.36')\n",
    "\n",
    "# 브라우저를 반환해서 driver객체 저장\n",
    "driver = webdriver.Chrome('C:\\\\Users\\\\mh\\\\jupyter code\\\\chromedriver.exe',chrome_options=options)\n",
    "\n",
    "# 브라우저 띄우기\n",
    "driver.get('https://news.naver.com/main/read.nhn?mode=LSD&mid=shm&sid1=105&oid=003&aid=0008689497')\n",
    "\n",
    "print(driver.find_element_by_id('articleBodyContents').text)"
   ]
  },
  {
   "cell_type": "markdown",
   "metadata": {},
   "source": [
    "# Selenium과 BeautifulSoup을 활용해서 네이버 실시간 검색어 1~20위까지 출력"
   ]
  },
  {
   "cell_type": "code",
   "execution_count": 9,
   "metadata": {},
   "outputs": [],
   "source": [
    "from bs4 import BeautifulSoup as bs\n",
    "from selenium import webdriver\n",
    "from selenium.webdriver.common.keys import Keys"
   ]
  },
  {
   "cell_type": "code",
   "execution_count": 3,
   "metadata": {},
   "outputs": [],
   "source": [
    "# url = 'https://www.naver.com'\n",
    "\n",
    "# driver = webdriver.Chrome('C:\\\\Users\\\\mh\\\\jupyter code\\\\chromedriver.exe',chrome_options=options)\n",
    "# driver.get(url)\n",
    "\n",
    "# # print(driver.find_elements_by_class_name('ah_k'))\n",
    "\n",
    "# soup = bs(driver.page_source,'lxml')\n",
    "\n",
    "# keywords = soup.find_all('span',class_='ah_k',limit=20)\n",
    "\n",
    "# for keyword in keywords:\n",
    "#     print(keyword.text)\n",
    "    \n",
    "# #브라우저 종료\n",
    "# driver.quit()"
   ]
  },
  {
   "cell_type": "markdown",
   "metadata": {},
   "source": [
    "# 웹 브라우저 조작 실습\n",
    "### - 마우스 제어 : click(), submit()\n",
    "### - 키보드 제어 : send_keys(text)"
   ]
  },
  {
   "cell_type": "code",
   "execution_count": 4,
   "metadata": {},
   "outputs": [],
   "source": [
    "url = 'https://www.naver.com'\n",
    "\n",
    "driver = webdriver.Chrome('C:\\\\Users\\\\mh\\\\jupyter code\\\\chromedriver.exe',chrome_options=options)\n",
    "\n",
    "driver.get(url)\n",
    "\n",
    "driver.find_element_by_id('query').send_keys('크롤링') #크롤링 을 입력한다\n",
    "# driver.find_element_by_id('query').send_keys(Keys.ENTER)\n",
    "driver.find_element_by_id('search_btn').click() #버튼을 클릭한다\n",
    "    \n",
    "#브라우저 종료\n",
    "# driver.quit()"
   ]
  },
  {
   "cell_type": "markdown",
   "metadata": {},
   "source": [
    "# 한솥도시락 메뉴이름,가격을 출력"
   ]
  },
  {
   "cell_type": "code",
   "execution_count": 10,
   "metadata": {},
   "outputs": [],
   "source": [
    "import time\n",
    "import csv"
   ]
  },
  {
   "cell_type": "code",
   "execution_count": 17,
   "metadata": {},
   "outputs": [],
   "source": [
    "url = 'https://www.hsd.co.kr/menu/menu_list'\n",
    "\n",
    "driver = webdriver.Chrome('C:\\\\Users\\\\mh\\\\jupyter code\\\\chromedriver.exe',chrome_options=options)\n",
    "\n",
    "driver.get(url)\n",
    "\n",
    "for i in range(3):\n",
    "    driver.find_element_by_class_name('c_05').click()\n",
    "    \n",
    "    #딜레이 설정 : time.sleep(초단위)\n",
    "    time.sleep(1)\n",
    "    \n",
    "#Web page source -> BeautifulSoup으로 변환\n",
    "soup = bs(driver.page_source,'lxml')\n",
    "\n",
    "menus = soup.select('.h.fz_03')\n",
    "prices = soup.select('div.item-price > strong')\n",
    "\n",
    "lunchs = []\n",
    "\n",
    "for index in range(len(menus)):\n",
    "    lunchs.append([menus[index].text,prices[index].text])\n",
    "\n",
    "#저장할 경로 지정\n",
    "path = 'lunch_box.csv'\n",
    "\n",
    "f = open(path,'w',newline='', encoding = 'utf-8-sig')\n",
    "\n",
    "#한 행씩 저장될 수 있도록 writer타입으로 변환\n",
    "w = csv.writer(f)\n",
    "w.writerow(['메뉴이름','가격'])\n",
    "\n",
    "for lunch_box in lunchs:\n",
    "    #한 행씩 메뉴이름, 가격 저장\n",
    "    w.writerow(lunch_box)\n",
    "\n",
    "f.close()\n",
    "\n",
    "#브라우저 종료\n",
    "driver.quit()"
   ]
  },
  {
   "cell_type": "code",
   "execution_count": 18,
   "metadata": {},
   "outputs": [
    {
     "name": "stdout",
     "output_type": "stream",
     "text": [
      "                메뉴이름      가격\n",
      "0          한입 족발 도시락   8,500\n",
      "1         한입 불족발 도시락   8,500\n",
      "2       토네이도 소세지 파스타   5,500\n",
      "3         트리플 치즈 파스타   5,500\n",
      "4         토마토 미트 파스타   4,500\n",
      "5       매화(치킨, 연어구이)  10,000\n",
      "6    매화(순살 고등어 간장구이)  10,000\n",
      "7                진달래   7,000\n",
      "8   개나리(순살 고등어 간장구이)   8,000\n",
      "9         돈까스도련님고기고기   5,800\n",
      "10        탕수육도련님고기고기   5,800\n",
      "11           새치 고기고기   6,200\n",
      "12           돈치 고기고기   5,400\n",
      "13            숯불직화구이   6,500\n",
      "14              소불고기   5,000\n",
      "15            메가치킨제육   7,000\n",
      "16       칠리 찹쌀탕수육도련님   4,200\n",
      "17                동백   5,500\n",
      "18              치킨제육   4,500\n",
      "19            돈까스도련님   4,200\n",
      "20              제육볶음   4,100\n",
      "21          돈치스팸 도시락   4,700\n",
      "22        제육 김치찌개 정식   8,200\n",
      "23     제육 김치 부대찌개 정식   8,500\n",
      "24   돈치스팸 김치 부대찌개 정식   8,500\n",
      "25  빅치킨마요 김치 부대찌개 정식   7,400\n",
      "26   치킨마요 김치 부대찌개 정식   6,800\n",
      "27      돈치스팸 김치찌개 정식   8,200\n",
      "28     빅치킨마요 김치찌개 정식   7,000\n",
      "29      치킨마요 김치찌개 정식   6,400\n",
      "30            메가스팸마요   5,600\n",
      "31              스팸마요   3,600\n",
      "32            메가치킨마요   5,500\n",
      "33             왕치킨마요   4,500\n",
      "34             빅치킨마요   3,800\n",
      "35              치킨마요   3,200\n",
      "36              참치마요   3,000\n",
      "37              돈치마요   3,600\n",
      "38          치즈 카레도시락   4,100\n",
      "39            돈까스 카레   4,200\n",
      "40        3종치즈 김치볶음밥   4,800\n",
      "41          스팸 김치볶음밥   4,700\n",
      "42             김치볶음밥   3,900\n",
      "43           스팸철판볶음밥   4,500\n",
      "44        소불고기 철판볶음밥   4,500\n",
      "45          묵은지 김치찌개   4,500\n",
      "46           김치 부대찌개   5,800\n",
      "47        반찬 김치 부대찌개   4,500\n",
      "48         숯불직화구이 덮밥   5,900\n",
      "49           마파두부 덮밥   5,000\n",
      "50          왕카레돈까스덮밥   5,700\n",
      "51          새우돈까스 덮밥   3,900\n",
      "52            돈까스 덮밥   3,800\n",
      "53    소불고기 감초고추장 비빔밥   5,000\n",
      "54    시골제육 두부강된장 비빔밥   5,000\n",
      "55        참치야채 감초고추장   3,200\n",
      "56             튼튼도시락   5,000\n"
     ]
    }
   ],
   "source": [
    "import pandas as pd\n",
    "lunch_box = pd.read_csv(\"lunch_box.csv\", encoding = 'utf-8-sig')\n",
    "print(lunch_box)"
   ]
  }
 ],
 "metadata": {
  "kernelspec": {
   "display_name": "Python 3",
   "language": "python",
   "name": "python3"
  },
  "language_info": {
   "codemirror_mode": {
    "name": "ipython",
    "version": 3
   },
   "file_extension": ".py",
   "mimetype": "text/x-python",
   "name": "python",
   "nbconvert_exporter": "python",
   "pygments_lexer": "ipython3",
   "version": "3.8.8"
  },
  "toc": {
   "base_numbering": 1,
   "nav_menu": {},
   "number_sections": true,
   "sideBar": true,
   "skip_h1_title": false,
   "title_cell": "Table of Contents",
   "title_sidebar": "Contents",
   "toc_cell": false,
   "toc_position": {},
   "toc_section_display": true,
   "toc_window_display": false
  }
 },
 "nbformat": 4,
 "nbformat_minor": 2
}
